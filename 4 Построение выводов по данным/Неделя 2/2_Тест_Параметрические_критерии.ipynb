{
  "nbformat": 4,
  "nbformat_minor": 0,
  "metadata": {
    "colab": {
      "name": "4_Тест_Параметрические_критерии.ipynb",
      "provenance": []
    },
    "kernelspec": {
      "name": "python3",
      "display_name": "Python 3"
    },
    "language_info": {
      "name": "python"
    }
  },
  "cells": [
    {
      "cell_type": "code",
      "metadata": {
        "id": "npjo29Dvi4OB"
      },
      "source": [
        "import numpy as np\n",
        "from scipy import stats\n",
        "import pandas as pd\n",
        "from sklearn.model_selection import train_test_split\n",
        "from sklearn.linear_model import LogisticRegression"
      ],
      "execution_count": 29,
      "outputs": []
    },
    {
      "cell_type": "markdown",
      "metadata": {
        "id": "2444gUrYhido"
      },
      "source": [
        "### 3"
      ]
    },
    {
      "cell_type": "code",
      "metadata": {
        "id": "yAnztOJkhOHh"
      },
      "source": [
        "def proportions_diff_z_stat_ind(a, b, n1, n2):\n",
        "    p1 = a/n1\n",
        "    p2 = b/n2\n",
        "\n",
        "    P = (p1*n1 + p2*n2) / (n1 + n2)\n",
        "    \n",
        "    return (p1 - p2) / np.sqrt(P * (1 - P) * (1 / n1 + 1 / n2))\n",
        "  \n",
        "def proportions_diff_z_test(z_stat, alternative = 'two-sided'):\n",
        "    if alternative not in ('two-sided', 'less', 'greater'):\n",
        "        raise ValueError(\"alternative not recognized\\n\"\n",
        "                         \"should be 'two-sided', 'less' or 'greater'\")\n",
        "    \n",
        "    if alternative == 'two-sided':\n",
        "        return 2 * (1 - stats.norm.cdf(np.abs(z_stat)))\n",
        "    \n",
        "    if alternative == 'less':\n",
        "        return stats.norm.cdf(z_stat)\n",
        "\n",
        "    if alternative == 'greater':\n",
        "        return 1 - stats.norm.cdf(z_stat)"
      ],
      "execution_count": 7,
      "outputs": []
    },
    {
      "cell_type": "code",
      "metadata": {
        "colab": {
          "base_uri": "https://localhost:8080/"
        },
        "id": "C75_PCafhyFl",
        "outputId": "c7fe9849-d9c8-47b7-b7e6-be570cc24a82"
      },
      "source": [
        "a = 10\n",
        "n1 = 34\n",
        "b = 4\n",
        "n2 = 16\n",
        "\n",
        "round(proportions_diff_z_test(proportions_diff_z_stat_ind(a, b, n1, n2), 'greater'), 4)"
      ],
      "execution_count": 11,
      "outputs": [
        {
          "output_type": "execute_result",
          "data": {
            "text/plain": [
              "0.3729"
            ]
          },
          "metadata": {
            "tags": []
          },
          "execution_count": 11
        }
      ]
    },
    {
      "cell_type": "markdown",
      "metadata": {
        "id": "X1PKqmKalhAB"
      },
      "source": [
        "### 4"
      ]
    },
    {
      "cell_type": "code",
      "metadata": {
        "colab": {
          "base_uri": "https://localhost:8080/",
          "height": 204
        },
        "id": "3oyrHrn7lh1o",
        "outputId": "ca4eb3a9-2d1b-4d5f-94d6-ee2fe7594c8a"
      },
      "source": [
        "banknotes = pd.read_csv('banknotes.txt', sep='\\t')\n",
        "banknotes.head()"
      ],
      "execution_count": 16,
      "outputs": [
        {
          "output_type": "execute_result",
          "data": {
            "text/html": [
              "<div>\n",
              "<style scoped>\n",
              "    .dataframe tbody tr th:only-of-type {\n",
              "        vertical-align: middle;\n",
              "    }\n",
              "\n",
              "    .dataframe tbody tr th {\n",
              "        vertical-align: top;\n",
              "    }\n",
              "\n",
              "    .dataframe thead th {\n",
              "        text-align: right;\n",
              "    }\n",
              "</style>\n",
              "<table border=\"1\" class=\"dataframe\">\n",
              "  <thead>\n",
              "    <tr style=\"text-align: right;\">\n",
              "      <th></th>\n",
              "      <th>X1</th>\n",
              "      <th>X2</th>\n",
              "      <th>X3</th>\n",
              "      <th>X4</th>\n",
              "      <th>X5</th>\n",
              "      <th>X6</th>\n",
              "      <th>real</th>\n",
              "    </tr>\n",
              "  </thead>\n",
              "  <tbody>\n",
              "    <tr>\n",
              "      <th>0</th>\n",
              "      <td>214.8</td>\n",
              "      <td>131.0</td>\n",
              "      <td>131.1</td>\n",
              "      <td>9.0</td>\n",
              "      <td>9.7</td>\n",
              "      <td>141.0</td>\n",
              "      <td>1</td>\n",
              "    </tr>\n",
              "    <tr>\n",
              "      <th>1</th>\n",
              "      <td>214.6</td>\n",
              "      <td>129.7</td>\n",
              "      <td>129.7</td>\n",
              "      <td>8.1</td>\n",
              "      <td>9.5</td>\n",
              "      <td>141.7</td>\n",
              "      <td>1</td>\n",
              "    </tr>\n",
              "    <tr>\n",
              "      <th>2</th>\n",
              "      <td>214.8</td>\n",
              "      <td>129.7</td>\n",
              "      <td>129.7</td>\n",
              "      <td>8.7</td>\n",
              "      <td>9.6</td>\n",
              "      <td>142.2</td>\n",
              "      <td>1</td>\n",
              "    </tr>\n",
              "    <tr>\n",
              "      <th>3</th>\n",
              "      <td>214.8</td>\n",
              "      <td>129.7</td>\n",
              "      <td>129.6</td>\n",
              "      <td>7.5</td>\n",
              "      <td>10.4</td>\n",
              "      <td>142.0</td>\n",
              "      <td>1</td>\n",
              "    </tr>\n",
              "    <tr>\n",
              "      <th>4</th>\n",
              "      <td>215.0</td>\n",
              "      <td>129.6</td>\n",
              "      <td>129.7</td>\n",
              "      <td>10.4</td>\n",
              "      <td>7.7</td>\n",
              "      <td>141.8</td>\n",
              "      <td>1</td>\n",
              "    </tr>\n",
              "  </tbody>\n",
              "</table>\n",
              "</div>"
            ],
            "text/plain": [
              "      X1     X2     X3    X4    X5     X6  real\n",
              "0  214.8  131.0  131.1   9.0   9.7  141.0     1\n",
              "1  214.6  129.7  129.7   8.1   9.5  141.7     1\n",
              "2  214.8  129.7  129.7   8.7   9.6  142.2     1\n",
              "3  214.8  129.7  129.6   7.5  10.4  142.0     1\n",
              "4  215.0  129.6  129.7  10.4   7.7  141.8     1"
            ]
          },
          "metadata": {
            "tags": []
          },
          "execution_count": 16
        }
      ]
    },
    {
      "cell_type": "code",
      "metadata": {
        "id": "N_3uRZ5imB9s"
      },
      "source": [
        "X = banknotes.drop('real', axis=1)\n",
        "y = banknotes['real']\n",
        "\n",
        "X_train, X_test, y_train, y_test = train_test_split(X, y, test_size=50, random_state=1)\n",
        "\n",
        "features1 = ['X1', 'X2', 'X3']\n",
        "features2 = ['X4', 'X5', 'X6']\n",
        "\n",
        "lr1 = LogisticRegression(solver='liblinear')\n",
        "lr1.fit(X_train[features1], y_train)\n",
        "pred1 = lr1.predict(X_test[features1])\n",
        "\n",
        "lr2 = LogisticRegression(solver='liblinear')\n",
        "lr2.fit(X_train[features2], y_train)\n",
        "pred2 = lr2.predict(X_test[features2])"
      ],
      "execution_count": 71,
      "outputs": []
    },
    {
      "cell_type": "code",
      "metadata": {
        "id": "yzSl_ZIZo1S2"
      },
      "source": [
        "err_pred1 = np.abs(y_test - pred1)\n",
        "err_pred2 = np.abs(y_test - pred2)"
      ],
      "execution_count": 72,
      "outputs": []
    },
    {
      "cell_type": "code",
      "metadata": {
        "id": "FdOJvtWlpQrc"
      },
      "source": [
        "def proportions_diff_z_stat_rel(sample1, sample2):\n",
        "    sample = list(zip(sample1, sample2))\n",
        "    n = len(sample)\n",
        "    \n",
        "    f = sum([1 if (x[0] == 1 and x[1] == 0) else 0 for x in sample])\n",
        "    g = sum([1 if (x[0] == 0 and x[1] == 1) else 0 for x in sample])\n",
        "    \n",
        "    return (f - g) / np.sqrt(f + g - (f - g)**2 / n )"
      ],
      "execution_count": 73,
      "outputs": []
    },
    {
      "cell_type": "code",
      "metadata": {
        "colab": {
          "base_uri": "https://localhost:8080/"
        },
        "id": "ybDnPxompeoZ",
        "outputId": "fe83a11a-fa46-4c93-b2a3-07d54fc0e0e6"
      },
      "source": [
        "p_value = proportions_diff_z_test(proportions_diff_z_stat_rel(err_pred1, err_pred2))\n",
        "p_value"
      ],
      "execution_count": 74,
      "outputs": [
        {
          "output_type": "execute_result",
          "data": {
            "text/plain": [
              "0.0032969384555543435"
            ]
          },
          "metadata": {
            "tags": []
          },
          "execution_count": 74
        }
      ]
    },
    {
      "cell_type": "markdown",
      "metadata": {
        "id": "oC4X8t7KqdAi"
      },
      "source": [
        "### 5"
      ]
    },
    {
      "cell_type": "code",
      "metadata": {
        "id": "eTqbTVkjqXWU"
      },
      "source": [
        "def proportions_diff_confint_rel(sample1, sample2, alpha = 0.05):\n",
        "    z = stats.norm.ppf(1 - alpha / 2.)\n",
        "    sample = list(zip(sample1, sample2))\n",
        "    n = len(sample)\n",
        "        \n",
        "    f = sum([1 if (x[0] == 1 and x[1] == 0) else 0 for x in sample])\n",
        "    g = sum([1 if (x[0] == 0 and x[1] == 1) else 0 for x in sample])\n",
        "    \n",
        "    left_boundary = (f - g) / n  - z * np.sqrt((f + g) / n**2 - (f - g)**2 / n**3)\n",
        "    right_boundary = (f - g) / n  + z * np.sqrt((f + g) / n**2 - (f - g)**2 / n**3)\n",
        "    return (left_boundary, right_boundary)"
      ],
      "execution_count": 75,
      "outputs": []
    },
    {
      "cell_type": "code",
      "metadata": {
        "colab": {
          "base_uri": "https://localhost:8080/"
        },
        "id": "wF-s1zYOqh2Z",
        "outputId": "a454d1d9-45b4-442a-ba90-5b8404f65c5f"
      },
      "source": [
        "interval = proportions_diff_confint_rel(err_pred1, err_pred2)\n",
        "print(interval)\n",
        "print(round(interval[0], 4))"
      ],
      "execution_count": 76,
      "outputs": [
        {
          "output_type": "stream",
          "text": [
            "(0.059945206279614305, 0.3000547937203857)\n",
            "0.0599\n"
          ],
          "name": "stdout"
        }
      ]
    },
    {
      "cell_type": "markdown",
      "metadata": {
        "id": "Vg7BBWW0tTB1"
      },
      "source": [
        "### 6"
      ]
    },
    {
      "cell_type": "code",
      "metadata": {
        "colab": {
          "base_uri": "https://localhost:8080/"
        },
        "id": "ZvbBDMvwqnBL",
        "outputId": "8859ce8d-9df0-4b3e-dfc6-93fbf207b02f"
      },
      "source": [
        "mu_0 = 525\n",
        "sigma = 100\n",
        "\n",
        "X_mean = 541.4\n",
        "n = 100\n",
        "\n",
        "z = (X_mean - mu_0)/(sigma/np.sqrt(n))\n",
        "\n",
        "round(1-stats.norm.cdf(z), 4)"
      ],
      "execution_count": 69,
      "outputs": [
        {
          "output_type": "execute_result",
          "data": {
            "text/plain": [
              "0.0505"
            ]
          },
          "metadata": {
            "tags": []
          },
          "execution_count": 69
        }
      ]
    },
    {
      "cell_type": "markdown",
      "metadata": {
        "id": "cuoOHn9kwk59"
      },
      "source": [
        "### 7"
      ]
    },
    {
      "cell_type": "code",
      "metadata": {
        "colab": {
          "base_uri": "https://localhost:8080/"
        },
        "id": "e2zVwlRKuHbg",
        "outputId": "df72d6e5-efb8-44f9-dac4-b72ec8ef8002"
      },
      "source": [
        "X_mean = 541.5\n",
        "n = 100\n",
        "\n",
        "z = (X_mean - mu_0)/(sigma/np.sqrt(n))\n",
        "\n",
        "round(1-stats.norm.cdf(z), 4)"
      ],
      "execution_count": 70,
      "outputs": [
        {
          "output_type": "execute_result",
          "data": {
            "text/plain": [
              "0.0495"
            ]
          },
          "metadata": {
            "tags": []
          },
          "execution_count": 70
        }
      ]
    }
  ]
}