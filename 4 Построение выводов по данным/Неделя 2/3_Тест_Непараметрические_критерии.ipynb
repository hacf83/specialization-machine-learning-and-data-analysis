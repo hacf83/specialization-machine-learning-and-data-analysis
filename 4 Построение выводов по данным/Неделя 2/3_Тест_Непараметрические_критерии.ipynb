{
  "nbformat": 4,
  "nbformat_minor": 0,
  "metadata": {
    "colab": {
      "name": "4_Тест_Непараметрические_критерии.ipynb",
      "provenance": []
    },
    "kernelspec": {
      "name": "python3",
      "display_name": "Python 3"
    },
    "language_info": {
      "name": "python"
    }
  },
  "cells": [
    {
      "cell_type": "code",
      "metadata": {
        "id": "4gLHmmov2tSQ"
      },
      "source": [
        "import numpy as np\n",
        "from scipy import stats\n",
        "import pandas as pd\n",
        "import itertools"
      ],
      "execution_count": 1,
      "outputs": []
    },
    {
      "cell_type": "markdown",
      "metadata": {
        "id": "BUs_FmOr16hQ"
      },
      "source": [
        "### 4"
      ]
    },
    {
      "cell_type": "code",
      "metadata": {
        "colab": {
          "base_uri": "https://localhost:8080/"
        },
        "id": "hOFAKwu31V1m",
        "outputId": "094c7b24-c9a8-45d7-84b3-8e9a45a98f29"
      },
      "source": [
        "weeks = np.array([49, 58, 75, 110, 112, 132, 151, 276, 281, 362])\n",
        "m_0 = 200\n",
        "w, p_value = stats.wilcoxon(weeks - m_0)\n",
        "round(p_value, 4)"
      ],
      "execution_count": 2,
      "outputs": [
        {
          "output_type": "execute_result",
          "data": {
            "text/plain": [
              "0.2845"
            ]
          },
          "metadata": {
            "tags": []
          },
          "execution_count": 2
        }
      ]
    },
    {
      "cell_type": "markdown",
      "metadata": {
        "id": "Ktp3MRNq48El"
      },
      "source": [
        "### 5"
      ]
    },
    {
      "cell_type": "code",
      "metadata": {
        "colab": {
          "base_uri": "https://localhost:8080/"
        },
        "id": "c1_AXYog2-3t",
        "outputId": "311e4faa-377a-4227-9102-954032acc89b"
      },
      "source": [
        "no_cdt = np.array([22, 22, 15, 13, 19, 19, 18, 20, 21, 13, 13, 15])\n",
        "cdt = np.array([17, 18, 18, 15, 12, 4, 14, 15, 10])\n",
        "r1, p_value = stats.mannwhitneyu(no_cdt, cdt, alternative='greater')\n",
        "round(p_value, 4)"
      ],
      "execution_count": 3,
      "outputs": [
        {
          "output_type": "execute_result",
          "data": {
            "text/plain": [
              "0.029"
            ]
          },
          "metadata": {
            "tags": []
          },
          "execution_count": 3
        }
      ]
    },
    {
      "cell_type": "markdown",
      "metadata": {
        "id": "VD-AvCWJ9Tlu"
      },
      "source": [
        "### 6"
      ]
    },
    {
      "cell_type": "code",
      "metadata": {
        "colab": {
          "base_uri": "https://localhost:8080/",
          "height": 204
        },
        "id": "y32ydLXJ8LAH",
        "outputId": "2ece0745-a6f0-4285-fceb-8cf2ad37fdce"
      },
      "source": [
        "challenger = pd.read_csv('challenger.txt', sep='\\t')\n",
        "challenger.rename(columns={'Unnamed: 0':'Date'}, inplace=True )\n",
        "challenger.head()"
      ],
      "execution_count": 4,
      "outputs": [
        {
          "output_type": "execute_result",
          "data": {
            "text/html": [
              "<div>\n",
              "<style scoped>\n",
              "    .dataframe tbody tr th:only-of-type {\n",
              "        vertical-align: middle;\n",
              "    }\n",
              "\n",
              "    .dataframe tbody tr th {\n",
              "        vertical-align: top;\n",
              "    }\n",
              "\n",
              "    .dataframe thead th {\n",
              "        text-align: right;\n",
              "    }\n",
              "</style>\n",
              "<table border=\"1\" class=\"dataframe\">\n",
              "  <thead>\n",
              "    <tr style=\"text-align: right;\">\n",
              "      <th></th>\n",
              "      <th>Date</th>\n",
              "      <th>Temperature</th>\n",
              "      <th>Incident</th>\n",
              "    </tr>\n",
              "  </thead>\n",
              "  <tbody>\n",
              "    <tr>\n",
              "      <th>0</th>\n",
              "      <td>Apr12.81</td>\n",
              "      <td>18.9</td>\n",
              "      <td>0</td>\n",
              "    </tr>\n",
              "    <tr>\n",
              "      <th>1</th>\n",
              "      <td>Nov12.81</td>\n",
              "      <td>21.1</td>\n",
              "      <td>1</td>\n",
              "    </tr>\n",
              "    <tr>\n",
              "      <th>2</th>\n",
              "      <td>Mar22.82</td>\n",
              "      <td>20.6</td>\n",
              "      <td>0</td>\n",
              "    </tr>\n",
              "    <tr>\n",
              "      <th>3</th>\n",
              "      <td>Nov11.82</td>\n",
              "      <td>20.0</td>\n",
              "      <td>0</td>\n",
              "    </tr>\n",
              "    <tr>\n",
              "      <th>4</th>\n",
              "      <td>Apr04.83</td>\n",
              "      <td>19.4</td>\n",
              "      <td>0</td>\n",
              "    </tr>\n",
              "  </tbody>\n",
              "</table>\n",
              "</div>"
            ],
            "text/plain": [
              "       Date  Temperature  Incident\n",
              "0  Apr12.81         18.9         0\n",
              "1  Nov12.81         21.1         1\n",
              "2  Mar22.82         20.6         0\n",
              "3  Nov11.82         20.0         0\n",
              "4  Apr04.83         19.4         0"
            ]
          },
          "metadata": {
            "tags": []
          },
          "execution_count": 4
        }
      ]
    },
    {
      "cell_type": "code",
      "metadata": {
        "id": "GBjsACXx9zZv"
      },
      "source": [
        "incident_1 = challenger[challenger['Incident'] == 1]\n",
        "incident_0 = challenger[challenger['Incident'] == 0]"
      ],
      "execution_count": 5,
      "outputs": []
    },
    {
      "cell_type": "code",
      "metadata": {
        "id": "5idzdopJ-iqL"
      },
      "source": [
        "def get_bootstrap_samples(data, n_samples):\n",
        "    indices = np.random.randint(0, len(data), (n_samples, len(data)))\n",
        "    samples = data[indices]\n",
        "    return samples\n",
        "\n",
        "def stat_intervals(stat, alpha):\n",
        "    boundaries = np.percentile(stat, [100 * alpha / 2., 100 * (1 - alpha / 2.)])\n",
        "    return boundaries"
      ],
      "execution_count": 6,
      "outputs": []
    },
    {
      "cell_type": "code",
      "metadata": {
        "colab": {
          "base_uri": "https://localhost:8080/"
        },
        "id": "f8b3V6XIAF8L",
        "outputId": "b36d3874-2c13-4f8e-9d87-1f56a6032698"
      },
      "source": [
        "np.random.seed(0)\n",
        "temperature_0_mean_scores = list(map(np.mean, get_bootstrap_samples(incident_0['Temperature'].values, 1000)))\n",
        "temperature_1_mean_scores = list(map(np.mean, get_bootstrap_samples(incident_1['Temperature'].values, 1000)))\n",
        "delta_mean_scores = list(map(lambda x: x[1] - x[0], zip(temperature_1_mean_scores, temperature_0_mean_scores)))\n",
        "interval = stat_intervals(delta_mean_scores, 0.05)\n",
        "print(interval)\n",
        "print(round(interval[0], 4))"
      ],
      "execution_count": 7,
      "outputs": [
        {
          "output_type": "stream",
          "text": [
            "[1.42299107 7.93861607]\n",
            "1.423\n"
          ],
          "name": "stdout"
        }
      ]
    },
    {
      "cell_type": "markdown",
      "metadata": {
        "id": "skYjz6ulDttN"
      },
      "source": [
        "### 7"
      ]
    },
    {
      "cell_type": "code",
      "metadata": {
        "id": "mumgqcCxBLak"
      },
      "source": [
        "def permutation_t_stat_ind(sample1, sample2):\n",
        "    return np.mean(sample1) - np.mean(sample2)\n",
        "\n",
        "def get_random_combinations(n1, n2, max_combinations):\n",
        "    index = list(range(n1 + n2))\n",
        "    indices = set([tuple(index)])\n",
        "    for i in range(max_combinations - 1):\n",
        "        np.random.shuffle(index)\n",
        "        indices.add(tuple(index))\n",
        "    return [(index[:n1], index[n1:]) for index in indices]\n",
        "\n",
        "def permutation_zero_dist_ind(sample1, sample2, max_combinations = None):\n",
        "    joined_sample = np.hstack((sample1, sample2))\n",
        "    n1 = len(sample1)\n",
        "    n = len(joined_sample)\n",
        "    \n",
        "    if max_combinations:\n",
        "        indices = get_random_combinations(n1, len(sample2), max_combinations)\n",
        "    else:\n",
        "        indices = [(list(index), filter(lambda i: i not in index, range(n))) \\\n",
        "                    for index in itertools.combinations(range(n), n1)]\n",
        "    \n",
        "    distr = [joined_sample[list(i[0])].mean() - joined_sample[list(i[1])].mean() \\\n",
        "             for i in indices]\n",
        "    return distr"
      ],
      "execution_count": 8,
      "outputs": []
    },
    {
      "cell_type": "code",
      "metadata": {
        "id": "LbegtuuFEPM2"
      },
      "source": [
        "def permutation_test(sample1, sample2, max_permutations = None, alternative = 'two-sided'):\n",
        "    if alternative not in ('two-sided', 'less', 'greater'):\n",
        "        raise ValueError(\"alternative not recognized\\n\"\n",
        "                         \"should be 'two-sided', 'less' or 'greater'\")\n",
        "    \n",
        "    t_stat = permutation_t_stat_ind(sample1, sample2)\n",
        "    \n",
        "    zero_distr = permutation_zero_dist_ind(sample1, sample2, max_permutations)\n",
        "    \n",
        "    if alternative == 'two-sided':\n",
        "        return sum([1 if abs(x) >= abs(t_stat) else 0 for x in zero_distr]) / len(zero_distr)\n",
        "    \n",
        "    if alternative == 'less':\n",
        "        return sum([1 if x <= t_stat else 0 for x in zero_distr]) / len(zero_distr)\n",
        "\n",
        "    if alternative == 'greater':\n",
        "        return sum([1 if x >= t_stat else 0 for x in zero_distr]) / len(zero_distr)"
      ],
      "execution_count": 9,
      "outputs": []
    },
    {
      "cell_type": "code",
      "metadata": {
        "colab": {
          "base_uri": "https://localhost:8080/"
        },
        "id": "Eo0lAPdNEemf",
        "outputId": "b17b3088-547d-4259-b00d-bcdee73793d4"
      },
      "source": [
        "np.random.seed(0)\n",
        "permutation_test(incident_0['Temperature'].values, incident_1['Temperature'].values, 10000)"
      ],
      "execution_count": 11,
      "outputs": [
        {
          "output_type": "execute_result",
          "data": {
            "text/plain": [
              "0.007"
            ]
          },
          "metadata": {
            "tags": []
          },
          "execution_count": 11
        }
      ]
    }
  ]
}