{
 "cells": [
  {
   "cell_type": "code",
   "execution_count": 1,
   "metadata": {
    "colab": {
     "base_uri": "https://localhost:8080/"
    },
    "id": "2PI_IqCZbNmx",
    "outputId": "4817d32c-367a-4e9f-8536-4e2d687fd0ce"
   },
   "outputs": [],
   "source": [
    "import pandas as pd\n",
    "from statsmodels.stats.weightstats import _tconfint_generic\n",
    "import numpy as np\n",
    "from scipy.stats import norm"
   ]
  },
  {
   "cell_type": "code",
   "execution_count": 2,
   "metadata": {
    "colab": {
     "base_uri": "https://localhost:8080/",
     "height": 204
    },
    "id": "POo7103Nb41_",
    "outputId": "80452487-6b0b-463d-c37d-5d190ae6410e"
   },
   "outputs": [
    {
     "data": {
      "text/html": [
       "<div>\n",
       "<style scoped>\n",
       "    .dataframe tbody tr th:only-of-type {\n",
       "        vertical-align: middle;\n",
       "    }\n",
       "\n",
       "    .dataframe tbody tr th {\n",
       "        vertical-align: top;\n",
       "    }\n",
       "\n",
       "    .dataframe thead th {\n",
       "        text-align: right;\n",
       "    }\n",
       "</style>\n",
       "<table border=\"1\" class=\"dataframe\">\n",
       "  <thead>\n",
       "    <tr style=\"text-align: right;\">\n",
       "      <th></th>\n",
       "      <th>location</th>\n",
       "      <th>town</th>\n",
       "      <th>mortality</th>\n",
       "      <th>hardness</th>\n",
       "    </tr>\n",
       "  </thead>\n",
       "  <tbody>\n",
       "    <tr>\n",
       "      <th>0</th>\n",
       "      <td>South</td>\n",
       "      <td>Bath</td>\n",
       "      <td>1247</td>\n",
       "      <td>105</td>\n",
       "    </tr>\n",
       "    <tr>\n",
       "      <th>1</th>\n",
       "      <td>North</td>\n",
       "      <td>Birkenhead</td>\n",
       "      <td>1668</td>\n",
       "      <td>17</td>\n",
       "    </tr>\n",
       "    <tr>\n",
       "      <th>2</th>\n",
       "      <td>South</td>\n",
       "      <td>Birmingham</td>\n",
       "      <td>1466</td>\n",
       "      <td>5</td>\n",
       "    </tr>\n",
       "    <tr>\n",
       "      <th>3</th>\n",
       "      <td>North</td>\n",
       "      <td>Blackburn</td>\n",
       "      <td>1800</td>\n",
       "      <td>14</td>\n",
       "    </tr>\n",
       "    <tr>\n",
       "      <th>4</th>\n",
       "      <td>North</td>\n",
       "      <td>Blackpool</td>\n",
       "      <td>1609</td>\n",
       "      <td>18</td>\n",
       "    </tr>\n",
       "  </tbody>\n",
       "</table>\n",
       "</div>"
      ],
      "text/plain": [
       "  location        town  mortality  hardness\n",
       "0    South        Bath       1247       105\n",
       "1    North  Birkenhead       1668        17\n",
       "2    South  Birmingham       1466         5\n",
       "3    North   Blackburn       1800        14\n",
       "4    North   Blackpool       1609        18"
      ]
     },
     "execution_count": 2,
     "metadata": {},
     "output_type": "execute_result"
    }
   ],
   "source": [
    "water = pd.read_csv('water.txt', sep='\\t')\n",
    "water.head()"
   ]
  },
  {
   "cell_type": "markdown",
   "metadata": {
    "id": "sB4pnj3seVOM"
   },
   "source": [
    "## 2"
   ]
  },
  {
   "cell_type": "code",
   "execution_count": 3,
   "metadata": {
    "colab": {
     "base_uri": "https://localhost:8080/"
    },
    "id": "UKd3p_aQcAgu",
    "outputId": "9ec1d01e-a567-401a-926d-784d111d0669"
   },
   "outputs": [
    {
     "name": "stdout",
     "output_type": "stream",
     "text": [
      "(1476.0833413552848, 1572.2117406119285)\n",
      "1476.0833\n"
     ]
    }
   ],
   "source": [
    "mortality_mean = water['mortality'].mean()\n",
    "n = water.shape[0]\n",
    "mortality_std = water['mortality'].std()/np.sqrt(n)\n",
    "\n",
    "interval = _tconfint_generic(mortality_mean, mortality_std, n-1, 0.05, 'two-sided')\n",
    "print(interval)\n",
    "print(round(interval[0], 4))"
   ]
  },
  {
   "cell_type": "markdown",
   "metadata": {
    "id": "J6FgCnoYeW_p"
   },
   "source": [
    "## 3"
   ]
  },
  {
   "cell_type": "code",
   "execution_count": 4,
   "metadata": {
    "colab": {
     "base_uri": "https://localhost:8080/"
    },
    "id": "aaZuVCagdCg5",
    "outputId": "82fdc826-4df8-4c66-c3a7-92bc1ab9eea1"
   },
   "outputs": [
    {
     "name": "stdout",
     "output_type": "stream",
     "text": [
      "(1320.1517462936238, 1433.463638321761)\n",
      "1433.4636\n"
     ]
    }
   ],
   "source": [
    "south_mortality_mean = water.loc[water['location'] == 'South', 'mortality'].mean()\n",
    "n = water[water['location'] == 'South'].shape[0]\n",
    "south_mortality_std = water.loc[water['location'] == 'South', 'mortality'].std()/np.sqrt(n)\n",
    "\n",
    "interval = _tconfint_generic(south_mortality_mean, south_mortality_std, n-1, 0.05, 'two-sided')\n",
    "print(interval)\n",
    "print(round(interval[1], 4))"
   ]
  },
  {
   "cell_type": "markdown",
   "metadata": {
    "id": "Lk9rnkZ8eejK"
   },
   "source": [
    "## 4"
   ]
  },
  {
   "cell_type": "code",
   "execution_count": 5,
   "metadata": {
    "colab": {
     "base_uri": "https://localhost:8080/"
    },
    "id": "ArUqaYhAefMO",
    "outputId": "894c5aac-a5ce-4a14-a45c-4f92a04b8df6"
   },
   "outputs": [
    {
     "name": "stdout",
     "output_type": "stream",
     "text": [
      "(1586.5605251961385, 1680.6394748038613)\n"
     ]
    }
   ],
   "source": [
    "north_mortality_mean = water.loc[water['location'] == 'North', 'mortality'].mean()\n",
    "n = water[water['location'] == 'North'].shape[0]\n",
    "north_mortality_std = water.loc[water['location'] == 'North', 'mortality'].std()/np.sqrt(n)\n",
    "\n",
    "interval = _tconfint_generic(north_mortality_mean, north_mortality_std, n-1, 0.05, 'two-sided')\n",
    "print(interval)"
   ]
  },
  {
   "cell_type": "markdown",
   "metadata": {
    "id": "hSeWrn_LezO0"
   },
   "source": [
    "## 5"
   ]
  },
  {
   "cell_type": "code",
   "execution_count": 6,
   "metadata": {
    "colab": {
     "base_uri": "https://localhost:8080/"
    },
    "id": "ez9g1IEPe1cS",
    "outputId": "d6b96897-c867-4c9a-8b7e-fadc896714ff"
   },
   "outputs": [
    {
     "name": "stdout",
     "output_type": "stream",
     "text": [
      "(53.467198692036106, 86.07126284642544)\n"
     ]
    }
   ],
   "source": [
    "south_hardness_mean = water.loc[water['location'] == 'South', 'hardness'].mean()\n",
    "n = water[water['location'] == 'South'].shape[0]\n",
    "south_hardness_std = water.loc[water['location'] == 'South', 'hardness'].std(ddof=1)/np.sqrt(n)\n",
    "\n",
    "interval = _tconfint_generic(south_hardness_mean, south_hardness_std, n-1, 0.05, 'two-sided')\n",
    "print(interval)"
   ]
  },
  {
   "cell_type": "code",
   "execution_count": 7,
   "metadata": {
    "colab": {
     "base_uri": "https://localhost:8080/"
    },
    "id": "JHjc6O8ie9Mo",
    "outputId": "d1c2717e-e041-4a46-9944-0436e0880e5e"
   },
   "outputs": [
    {
     "name": "stdout",
     "output_type": "stream",
     "text": [
      "(21.42248728572426, 39.37751271427574)\n"
     ]
    }
   ],
   "source": [
    "north_hardness_mean = water.loc[water['location'] == 'North', 'hardness'].mean()\n",
    "n = water[water['location'] == 'North'].shape[0]\n",
    "north_hardness_std = water.loc[water['location'] == 'North', 'hardness'].std(ddof=1)/np.sqrt(n)\n",
    "\n",
    "interval = _tconfint_generic(north_hardness_mean, north_hardness_std, n-1, 0.05, 'two-sided')\n",
    "print(interval)"
   ]
  },
  {
   "cell_type": "markdown",
   "metadata": {
    "id": "Xo3KcFgIfQB_"
   },
   "source": [
    "## 6"
   ]
  },
  {
   "cell_type": "code",
   "execution_count": 8,
   "metadata": {
    "colab": {
     "base_uri": "https://localhost:8080/"
    },
    "id": "h_AVSDZ2fI36",
    "outputId": "82121c37-63c7-4303-89af-9731ec26fe91"
   },
   "outputs": [
    {
     "data": {
      "text/plain": [
       "385.0"
      ]
     },
     "execution_count": 8,
     "metadata": {
      "tags": []
     },
     "output_type": "execute_result"
    }
   ],
   "source": [
    "np.ceil((norm.ppf(1-0.05/2) / 0.1)**2)"
   ]
  }
 ],
 "metadata": {
  "colab": {
   "collapsed_sections": [],
   "name": "2_Тренировочный_тест_Доверительные_интервалы_для_среднего.ipynb",
   "provenance": []
  },
  "kernelspec": {
   "display_name": "Python 3",
   "language": "python",
   "name": "python3"
  },
  "language_info": {
   "codemirror_mode": {
    "name": "ipython",
    "version": 3
   },
   "file_extension": ".py",
   "mimetype": "text/x-python",
   "name": "python",
   "nbconvert_exporter": "python",
   "pygments_lexer": "ipython3",
   "version": "3.7.6"
  }
 },
 "nbformat": 4,
 "nbformat_minor": 1
}
