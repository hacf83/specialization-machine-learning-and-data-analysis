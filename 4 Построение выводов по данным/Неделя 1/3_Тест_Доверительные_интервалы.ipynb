{
 "cells": [
  {
   "cell_type": "code",
   "execution_count": 57,
   "metadata": {
    "id": "ABNPkmyXtWCv"
   },
   "outputs": [],
   "source": [
    "from scipy.stats import norm\n",
    "from math import sqrt\n",
    "import numpy as np\n",
    "import random"
   ]
  },
  {
   "cell_type": "markdown",
   "metadata": {
    "id": "Df_guyWLt3Zi"
   },
   "source": [
    "## 1"
   ]
  },
  {
   "cell_type": "code",
   "execution_count": 58,
   "metadata": {
    "colab": {
     "base_uri": "https://localhost:8080/"
    },
    "id": "11i4vefKt40M",
    "outputId": "c9ec709c-0254-43c3-a248-e679f1696e43"
   },
   "outputs": [
    {
     "data": {
      "text/plain": [
       "2.9677"
      ]
     },
     "execution_count": 58,
     "metadata": {
      "tags": []
     },
     "output_type": "execute_result"
    }
   ],
   "source": [
    "alpha = 1 - 0.997\n",
    "round(norm.ppf(1-alpha/2), 4)"
   ]
  },
  {
   "cell_type": "markdown",
   "metadata": {
    "id": "hyfkFkvBu65S"
   },
   "source": [
    "## 5"
   ]
  },
  {
   "cell_type": "code",
   "execution_count": 59,
   "metadata": {
    "colab": {
     "base_uri": "https://localhost:8080/"
    },
    "id": "M5E79kNkt8oZ",
    "outputId": "43c10e3b-b542-4edc-fc06-c9f0513c5b75"
   },
   "outputs": [
    {
     "data": {
      "text/plain": [
       "0.0077"
      ]
     },
     "execution_count": 59,
     "metadata": {
      "tags": []
     },
     "output_type": "execute_result"
    }
   ],
   "source": [
    "n_a = 11037\n",
    "p_a = 104/n_a\n",
    "n_p = 11034\n",
    "p_p = 189/n_p\n",
    "round(p_p - p_a, 4)"
   ]
  },
  {
   "cell_type": "markdown",
   "metadata": {
    "id": "9Q46ifrzx5V1"
   },
   "source": [
    "## 6"
   ]
  },
  {
   "cell_type": "code",
   "execution_count": 60,
   "metadata": {
    "colab": {
     "base_uri": "https://localhost:8080/"
    },
    "id": "jCIuPgZAxr5f",
    "outputId": "a6dc17f0-0852-4cfd-933a-117e758944bf"
   },
   "outputs": [
    {
     "name": "stdout",
     "output_type": "stream",
     "text": [
      "0.004687750675049439 0.010724297276960124\n",
      "0.0107\n"
     ]
    }
   ],
   "source": [
    "z = norm.ppf(1-0.05/2)\n",
    "left_boundary = p_p - p_a - z*sqrt(p_p*(1-p_p)/n_p + p_a*(1-p_a)/n_a)\n",
    "right_boundary = p_p - p_a + z*sqrt(p_p*(1-p_p)/n_p + p_a*(1-p_a)/n_a)\n",
    "print(left_boundary, right_boundary)\n",
    "print(round(right_boundary, 4))"
   ]
  },
  {
   "cell_type": "markdown",
   "metadata": {
    "id": "J8nllUwbzADq"
   },
   "source": [
    "## 7"
   ]
  },
  {
   "cell_type": "code",
   "execution_count": 61,
   "metadata": {
    "colab": {
     "base_uri": "https://localhost:8080/"
    },
    "id": "8JXcP8Z6yeq8",
    "outputId": "e2d3b650-312a-4aaf-9397-0f049f6ba5d6"
   },
   "outputs": [
    {
     "data": {
      "text/plain": [
       "1.8321"
      ]
     },
     "execution_count": 61,
     "metadata": {
      "tags": []
     },
     "output_type": "execute_result"
    }
   ],
   "source": [
    "odds_p = p_p/(1-p_p)\n",
    "odds_a = p_a/(1-p_a)\n",
    "round(odds_p / odds_a, 4)"
   ]
  },
  {
   "cell_type": "markdown",
   "metadata": {
    "id": "avVpWPihzhus"
   },
   "source": [
    "## 8"
   ]
  },
  {
   "cell_type": "code",
   "execution_count": 62,
   "metadata": {
    "id": "2un6izgh2PVo"
   },
   "outputs": [],
   "source": [
    "def get_bootstrap_samples(data, n_samples):\n",
    "    indices = np.random.randint(0, len(data), (n_samples, len(data)))\n",
    "    samples = data[indices]\n",
    "    return samples\n",
    "\n",
    "def stat_intervals(stat, alpha):\n",
    "    boundaries = np.percentile(stat, [100 * alpha / 2., 100 * (1 - alpha / 2.)])\n",
    "    return boundaries\n",
    "\n",
    "def odds(x):\n",
    "    p = sum(x)/len(x)\n",
    "    return p/(1-p)"
   ]
  },
  {
   "cell_type": "code",
   "execution_count": 63,
   "metadata": {
    "colab": {
     "base_uri": "https://localhost:8080/"
    },
    "id": "hMWSAQSxzFl6",
    "outputId": "6d6c6d5a-cfd2-4082-cfcc-0735e0733e14"
   },
   "outputs": [
    {
     "name": "stdout",
     "output_type": "stream",
     "text": [
      "[1.44419465 2.34321168]\n",
      "1.4442\n"
     ]
    }
   ],
   "source": [
    "aspirin = np.concatenate([np.full(104, 1), np.full(11037 - 104, 0)])\n",
    "placebo = np.concatenate([np.full(189, 1), np.full(11034 - 189, 0)])\n",
    "\n",
    "np.random.seed(0)\n",
    "aspirin_odds = list(map(odds, get_bootstrap_samples(aspirin, 1000)))\n",
    "placebo_odds = list(map(odds, get_bootstrap_samples(placebo, 1000)))\n",
    "\n",
    "odds_ratio = list(map(lambda x: x[0]/x[1], zip(placebo_odds, aspirin_odds)))\n",
    "interval = stat_intervals(odds_ratio, 0.05)\n",
    "print(interval)\n",
    "print(round(interval[0], 4))"
   ]
  }
 ],
 "metadata": {
  "colab": {
   "name": "7 Тест Доверительные интервалы.ipynb",
   "provenance": []
  },
  "kernelspec": {
   "display_name": "Python 3",
   "language": "python",
   "name": "python3"
  },
  "language_info": {
   "codemirror_mode": {
    "name": "ipython",
    "version": 3
   },
   "file_extension": ".py",
   "mimetype": "text/x-python",
   "name": "python",
   "nbconvert_exporter": "python",
   "pygments_lexer": "ipython3",
   "version": "3.7.6"
  }
 },
 "nbformat": 4,
 "nbformat_minor": 1
}
