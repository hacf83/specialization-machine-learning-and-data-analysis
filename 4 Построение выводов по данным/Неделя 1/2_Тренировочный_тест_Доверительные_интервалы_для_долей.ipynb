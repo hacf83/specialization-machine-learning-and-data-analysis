{
  "nbformat": 4,
  "nbformat_minor": 0,
  "metadata": {
    "colab": {
      "name": "5_Тренировочный_тест_Доверительные_интервалы_для_долей.ipynb",
      "provenance": []
    },
    "kernelspec": {
      "name": "python3",
      "display_name": "Python 3"
    },
    "language_info": {
      "name": "python"
    }
  },
  "cells": [
    {
      "cell_type": "code",
      "metadata": {
        "id": "aVzeLV8P9Zzi"
      },
      "source": [
        "from scipy.stats import norm\n",
        "from statsmodels.stats.proportion import proportion_confint, samplesize_confint_proportion\n",
        "import numpy as np\n",
        "import matplotlib.pyplot as plt"
      ],
      "execution_count": 14,
      "outputs": []
    },
    {
      "cell_type": "markdown",
      "metadata": {
        "id": "86RUYxY5EWf_"
      },
      "source": [
        "## 2"
      ]
    },
    {
      "cell_type": "code",
      "metadata": {
        "colab": {
          "base_uri": "https://localhost:8080/"
        },
        "id": "VZzEgKlj-U6f",
        "outputId": "fce95251-0c3e-4c06-8773-10d0cf08853b"
      },
      "source": [
        "n = 50\n",
        "p = 1/n\n",
        "z = norm.ppf(1-0.05/2)\n",
        "round(p - z*np.sqrt(p*(1-p)/n), 4)"
      ],
      "execution_count": 15,
      "outputs": [
        {
          "output_type": "execute_result",
          "data": {
            "text/plain": [
              "-0.0188"
            ]
          },
          "metadata": {
            "tags": []
          },
          "execution_count": 15
        }
      ]
    },
    {
      "cell_type": "markdown",
      "metadata": {
        "id": "jCpsHCD-EYMl"
      },
      "source": [
        "## 3"
      ]
    },
    {
      "cell_type": "code",
      "metadata": {
        "colab": {
          "base_uri": "https://localhost:8080/"
        },
        "id": "pAsL_DHO-h4X",
        "outputId": "5d05e134-54bc-461c-8a7a-d2e0aafc5d88"
      },
      "source": [
        "interval = proportion_confint(1, n, method='wilson')\n",
        "print(interval)\n",
        "print(round(interval[0], 4))"
      ],
      "execution_count": 16,
      "outputs": [
        {
          "output_type": "stream",
          "text": [
            "(0.003539259271646236, 0.10495443589637815)\n",
            "0.0035\n"
          ],
          "name": "stdout"
        }
      ]
    },
    {
      "cell_type": "markdown",
      "metadata": {
        "id": "1sCp7TrTEajQ"
      },
      "source": [
        "## 5"
      ]
    },
    {
      "cell_type": "code",
      "metadata": {
        "colab": {
          "base_uri": "https://localhost:8080/"
        },
        "id": "hONaQtJj_lPJ",
        "outputId": "ff91d42d-7f0e-4dd0-a389-7f71f23d6fab"
      },
      "source": [
        "n_samples = np.ceil(samplesize_confint_proportion(0.02, 0.01))\n",
        "n_samples"
      ],
      "execution_count": 17,
      "outputs": [
        {
          "output_type": "execute_result",
          "data": {
            "text/plain": [
              "753.0"
            ]
          },
          "metadata": {
            "tags": []
          },
          "execution_count": 17
        }
      ]
    },
    {
      "cell_type": "markdown",
      "metadata": {
        "id": "u6DZonAPEd3w"
      },
      "source": [
        "## 6"
      ]
    },
    {
      "cell_type": "code",
      "metadata": {
        "colab": {
          "base_uri": "https://localhost:8080/",
          "height": 286
        },
        "id": "oSvlAVhMAnSj",
        "outputId": "0a4ec3e8-0be1-4a93-fc1f-928f959d9f6c"
      },
      "source": [
        "P = np.arange(0, 1.05, 0.05)\n",
        "n_samples = np.array([np.ceil(samplesize_confint_proportion(p, 0.01)) for p in P])\n",
        "print(f'Худший случай: p = {P[np.argmax(n_samples)]} и n = {np.max(n_samples)}')\n",
        "plt.plot(P, n_samples);"
      ],
      "execution_count": 18,
      "outputs": [
        {
          "output_type": "stream",
          "text": [
            "Худший случай: p = 0.5 и n = 9604.0\n"
          ],
          "name": "stdout"
        },
        {
          "output_type": "display_data",
          "data": {
            "image/png": "[encoded data removed]",
            "text/plain": [
              "<Figure size 432x288 with 1 Axes>"
            ]
          },
          "metadata": {
            "tags": [],
            "needs_background": "light"
          }
        }
      ]
    }
  ]
}