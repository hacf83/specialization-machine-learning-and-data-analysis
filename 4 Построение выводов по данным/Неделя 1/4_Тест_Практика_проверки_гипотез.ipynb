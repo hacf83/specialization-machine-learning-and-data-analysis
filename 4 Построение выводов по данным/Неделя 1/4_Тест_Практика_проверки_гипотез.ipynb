{
  "nbformat": 4,
  "nbformat_minor": 0,
  "metadata": {
    "colab": {
      "name": "3 Тест Практика проверки гипотез.ipynb",
      "provenance": []
    },
    "kernelspec": {
      "name": "python3",
      "display_name": "Python 3"
    },
    "language_info": {
      "name": "python"
    }
  },
  "cells": [
    {
      "cell_type": "code",
      "metadata": {
        "id": "v2P33WeVtzqK"
      },
      "source": [
        "from scipy.stats import binom_test, chisquare\n",
        "import pandas as pd\n",
        "import numpy as np\n",
        "from scipy.stats import binned_statistic_2d"
      ],
      "execution_count": 24,
      "outputs": []
    },
    {
      "cell_type": "markdown",
      "metadata": {
        "id": "7ZKdcYemwV3F"
      },
      "source": [
        "### 1"
      ]
    },
    {
      "cell_type": "code",
      "metadata": {
        "colab": {
          "base_uri": "https://localhost:8080/"
        },
        "id": "qfens5F7qvAa",
        "outputId": "febc8c2b-719e-4a98-fc2b-11ec73690a28"
      },
      "source": [
        "round(binom_test(67, 100, 0.75, alternative='two-sided'), 4)"
      ],
      "execution_count": 2,
      "outputs": [
        {
          "output_type": "execute_result",
          "data": {
            "text/plain": [
              "0.0822"
            ]
          },
          "metadata": {
            "tags": []
          },
          "execution_count": 2
        }
      ]
    },
    {
      "cell_type": "markdown",
      "metadata": {
        "id": "MLGDcRaAxO5I"
      },
      "source": [
        "### 3"
      ]
    },
    {
      "cell_type": "code",
      "metadata": {
        "id": "r_vWxlg0xWwd"
      },
      "source": [
        "pines = pd.read_csv('pines.txt', delimiter = \"\\t\")"
      ],
      "execution_count": 3,
      "outputs": []
    },
    {
      "cell_type": "code",
      "metadata": {
        "colab": {
          "base_uri": "https://localhost:8080/"
        },
        "id": "pwNW0d1FuLXV",
        "outputId": "ca0bbe1c-b3e5-4705-b4e2-9b02cf45c0ce"
      },
      "source": [
        "x = pines['sn'].values\n",
        "y = pines['we'].values\n",
        "bin = np.linspace(0, 200, 6)\n",
        "ret = binned_statistic_2d(x, y, x, 'count', bins=[bin, bin])\n",
        "ret.statistic.mean()"
      ],
      "execution_count": 22,
      "outputs": [
        {
          "output_type": "execute_result",
          "data": {
            "text/plain": [
              "23.36"
            ]
          },
          "metadata": {
            "tags": []
          },
          "execution_count": 22
        }
      ]
    },
    {
      "cell_type": "markdown",
      "metadata": {
        "id": "vtqSYO5YAD0u"
      },
      "source": [
        "### 4"
      ]
    },
    {
      "cell_type": "code",
      "metadata": {
        "colab": {
          "base_uri": "https://localhost:8080/"
        },
        "id": "WjHWayOV03NH",
        "outputId": "687717a6-d853-4442-80cf-91fd279c8e7a"
      },
      "source": [
        "chi = chisquare(ret.statistic.flatten())\n",
        "print(chi)\n",
        "print(round(chi.statistic, 2))"
      ],
      "execution_count": 41,
      "outputs": [
        {
          "output_type": "stream",
          "text": [
            "Power_divergenceResult(statistic=150.58904109589042, pvalue=2.574669774967279e-20)\n",
            "150.59\n"
          ],
          "name": "stdout"
        }
      ]
    }
  ]
}