{
 "cells": [
  {
   "cell_type": "code",
   "execution_count": 1,
   "metadata": {
    "colab": {
     "base_uri": "https://localhost:8080/"
    },
    "id": "MS7R5D1aNM5_",
    "outputId": "77b8fa4e-abd3-4cf1-e33a-1583967838e3"
   },
   "outputs": [],
   "source": [
    "import pandas as pd\n",
    "from scipy import stats\n",
    "from statsmodels.sandbox.stats.multicomp import multipletests "
   ]
  },
  {
   "cell_type": "markdown",
   "metadata": {
    "id": "Ow1aGOP7M7rp"
   },
   "source": [
    "### 2-4"
   ]
  },
  {
   "cell_type": "code",
   "execution_count": 10,
   "metadata": {
    "colab": {
     "base_uri": "https://localhost:8080/",
     "height": 482
    },
    "id": "T-FoqV5oKgYg",
    "outputId": "0531afe2-f488-4721-a520-fe55e9b8742c"
   },
   "outputs": [
    {
     "data": {
      "text/html": [
       "<div>\n",
       "<style scoped>\n",
       "    .dataframe tbody tr th:only-of-type {\n",
       "        vertical-align: middle;\n",
       "    }\n",
       "\n",
       "    .dataframe tbody tr th {\n",
       "        vertical-align: top;\n",
       "    }\n",
       "\n",
       "    .dataframe thead th {\n",
       "        text-align: right;\n",
       "    }\n",
       "</style>\n",
       "<table border=\"1\" class=\"dataframe\">\n",
       "  <thead>\n",
       "    <tr style=\"text-align: right;\">\n",
       "      <th></th>\n",
       "      <th>data</th>\n",
       "      <th>C4.5</th>\n",
       "      <th>C4.5+m</th>\n",
       "      <th>C4.5+cf</th>\n",
       "      <th>C4.5+m+cf</th>\n",
       "    </tr>\n",
       "  </thead>\n",
       "  <tbody>\n",
       "    <tr>\n",
       "      <th>0</th>\n",
       "      <td>adult (sample)</td>\n",
       "      <td>0.763</td>\n",
       "      <td>0.768</td>\n",
       "      <td>0.771</td>\n",
       "      <td>0.798</td>\n",
       "    </tr>\n",
       "    <tr>\n",
       "      <th>1</th>\n",
       "      <td>breast cancer</td>\n",
       "      <td>0.599</td>\n",
       "      <td>0.591</td>\n",
       "      <td>0.590</td>\n",
       "      <td>0.569</td>\n",
       "    </tr>\n",
       "    <tr>\n",
       "      <th>2</th>\n",
       "      <td>breast cancer wisconsin</td>\n",
       "      <td>0.954</td>\n",
       "      <td>0.971</td>\n",
       "      <td>0.968</td>\n",
       "      <td>0.967</td>\n",
       "    </tr>\n",
       "    <tr>\n",
       "      <th>3</th>\n",
       "      <td>cmc</td>\n",
       "      <td>0.628</td>\n",
       "      <td>0.661</td>\n",
       "      <td>0.654</td>\n",
       "      <td>0.657</td>\n",
       "    </tr>\n",
       "    <tr>\n",
       "      <th>4</th>\n",
       "      <td>ionosphere</td>\n",
       "      <td>0.882</td>\n",
       "      <td>0.888</td>\n",
       "      <td>0.886</td>\n",
       "      <td>0.898</td>\n",
       "    </tr>\n",
       "    <tr>\n",
       "      <th>5</th>\n",
       "      <td>iris</td>\n",
       "      <td>0.936</td>\n",
       "      <td>0.931</td>\n",
       "      <td>0.916</td>\n",
       "      <td>0.931</td>\n",
       "    </tr>\n",
       "    <tr>\n",
       "      <th>6</th>\n",
       "      <td>liver disorders</td>\n",
       "      <td>0.661</td>\n",
       "      <td>0.668</td>\n",
       "      <td>0.609</td>\n",
       "      <td>0.685</td>\n",
       "    </tr>\n",
       "    <tr>\n",
       "      <th>7</th>\n",
       "      <td>lung cancer</td>\n",
       "      <td>0.583</td>\n",
       "      <td>0.583</td>\n",
       "      <td>0.563</td>\n",
       "      <td>0.625</td>\n",
       "    </tr>\n",
       "    <tr>\n",
       "      <th>8</th>\n",
       "      <td>lymphography</td>\n",
       "      <td>0.775</td>\n",
       "      <td>0.838</td>\n",
       "      <td>0.866</td>\n",
       "      <td>0.875</td>\n",
       "    </tr>\n",
       "    <tr>\n",
       "      <th>9</th>\n",
       "      <td>mushroom</td>\n",
       "      <td>1.000</td>\n",
       "      <td>1.000</td>\n",
       "      <td>1.000</td>\n",
       "      <td>1.000</td>\n",
       "    </tr>\n",
       "    <tr>\n",
       "      <th>10</th>\n",
       "      <td>primary tumor</td>\n",
       "      <td>0.940</td>\n",
       "      <td>0.962</td>\n",
       "      <td>0.965</td>\n",
       "      <td>0.962</td>\n",
       "    </tr>\n",
       "    <tr>\n",
       "      <th>11</th>\n",
       "      <td>rheum</td>\n",
       "      <td>0.619</td>\n",
       "      <td>0.666</td>\n",
       "      <td>0.614</td>\n",
       "      <td>0.669</td>\n",
       "    </tr>\n",
       "    <tr>\n",
       "      <th>12</th>\n",
       "      <td>voting</td>\n",
       "      <td>0.972</td>\n",
       "      <td>0.981</td>\n",
       "      <td>0.975</td>\n",
       "      <td>0.975</td>\n",
       "    </tr>\n",
       "    <tr>\n",
       "      <th>13</th>\n",
       "      <td>wine</td>\n",
       "      <td>0.957</td>\n",
       "      <td>0.978</td>\n",
       "      <td>0.946</td>\n",
       "      <td>0.970</td>\n",
       "    </tr>\n",
       "  </tbody>\n",
       "</table>\n",
       "</div>"
      ],
      "text/plain": [
       "                       data   C4.5  C4.5+m  C4.5+cf  C4.5+m+cf\n",
       "0            adult (sample)  0.763   0.768    0.771      0.798\n",
       "1             breast cancer  0.599   0.591    0.590      0.569\n",
       "2   breast cancer wisconsin  0.954   0.971    0.968      0.967\n",
       "3                       cmc  0.628   0.661    0.654      0.657\n",
       "4                ionosphere  0.882   0.888    0.886      0.898\n",
       "5                      iris  0.936   0.931    0.916      0.931\n",
       "6           liver disorders  0.661   0.668    0.609      0.685\n",
       "7               lung cancer  0.583   0.583    0.563      0.625\n",
       "8              lymphography  0.775   0.838    0.866      0.875\n",
       "9                  mushroom  1.000   1.000    1.000      1.000\n",
       "10            primary tumor  0.940   0.962    0.965      0.962\n",
       "11                    rheum  0.619   0.666    0.614      0.669\n",
       "12                   voting  0.972   0.981    0.975      0.975\n",
       "13                     wine  0.957   0.978    0.946      0.970"
      ]
     },
     "execution_count": 10,
     "metadata": {
      "tags": []
     },
     "output_type": "execute_result"
    }
   ],
   "source": [
    "AUCs = pd.read_csv('AUCs.txt', sep='\\t')\n",
    "AUCs.rename(columns={'Unnamed: 0': 'data'}, inplace=True)\n",
    "AUCs"
   ]
  },
  {
   "cell_type": "code",
   "execution_count": 6,
   "metadata": {
    "colab": {
     "base_uri": "https://localhost:8080/"
    },
    "id": "UaLb17uCOe7m",
    "outputId": "d6660c57-d92a-4cdf-942b-b297957ec838"
   },
   "outputs": [
    {
     "data": {
      "text/plain": [
       "Index(['C4.5', 'C4.5+m', 'C4.5+cf', 'C4.5+m+cf'], dtype='object')"
      ]
     },
     "execution_count": 6,
     "metadata": {
      "tags": []
     },
     "output_type": "execute_result"
    }
   ],
   "source": [
    "AUCs.columns[1:]"
   ]
  },
  {
   "cell_type": "code",
   "execution_count": 20,
   "metadata": {
    "id": "xMfvuSvHNPM-"
   },
   "outputs": [],
   "source": [
    "comparison = []\n",
    "for i, classifier_1 in enumerate(AUCs.columns[1:]):\n",
    "    for j, classifier_2 in enumerate(AUCs.columns[1:]):\n",
    "        if i >= j:\n",
    "            continue\n",
    "        w, p = stats.wilcoxon(AUCs[classifier_1], AUCs[classifier_2])\n",
    "        comparison.append([classifier_1, classifier_2, w, p])"
   ]
  },
  {
   "cell_type": "code",
   "execution_count": 23,
   "metadata": {
    "colab": {
     "base_uri": "https://localhost:8080/",
     "height": 235
    },
    "id": "EZ3KNR2CQFSz",
    "outputId": "8b8badf5-595d-4957-cee1-75e860d3ae1c"
   },
   "outputs": [
    {
     "data": {
      "text/html": [
       "<div>\n",
       "<style scoped>\n",
       "    .dataframe tbody tr th:only-of-type {\n",
       "        vertical-align: middle;\n",
       "    }\n",
       "\n",
       "    .dataframe tbody tr th {\n",
       "        vertical-align: top;\n",
       "    }\n",
       "\n",
       "    .dataframe thead th {\n",
       "        text-align: right;\n",
       "    }\n",
       "</style>\n",
       "<table border=\"1\" class=\"dataframe\">\n",
       "  <thead>\n",
       "    <tr style=\"text-align: right;\">\n",
       "      <th></th>\n",
       "      <th>classifier_1</th>\n",
       "      <th>classifier_2</th>\n",
       "      <th>w</th>\n",
       "      <th>p</th>\n",
       "    </tr>\n",
       "  </thead>\n",
       "  <tbody>\n",
       "    <tr>\n",
       "      <th>0</th>\n",
       "      <td>C4.5</td>\n",
       "      <td>C4.5+m</td>\n",
       "      <td>6.5</td>\n",
       "      <td>0.010757</td>\n",
       "    </tr>\n",
       "    <tr>\n",
       "      <th>2</th>\n",
       "      <td>C4.5</td>\n",
       "      <td>C4.5+m+cf</td>\n",
       "      <td>11.0</td>\n",
       "      <td>0.015906</td>\n",
       "    </tr>\n",
       "    <tr>\n",
       "      <th>5</th>\n",
       "      <td>C4.5+cf</td>\n",
       "      <td>C4.5+m+cf</td>\n",
       "      <td>10.0</td>\n",
       "      <td>0.022909</td>\n",
       "    </tr>\n",
       "    <tr>\n",
       "      <th>3</th>\n",
       "      <td>C4.5+m</td>\n",
       "      <td>C4.5+cf</td>\n",
       "      <td>17.0</td>\n",
       "      <td>0.046333</td>\n",
       "    </tr>\n",
       "    <tr>\n",
       "      <th>4</th>\n",
       "      <td>C4.5+m</td>\n",
       "      <td>C4.5+m+cf</td>\n",
       "      <td>22.0</td>\n",
       "      <td>0.327826</td>\n",
       "    </tr>\n",
       "    <tr>\n",
       "      <th>1</th>\n",
       "      <td>C4.5</td>\n",
       "      <td>C4.5+cf</td>\n",
       "      <td>43.0</td>\n",
       "      <td>0.861262</td>\n",
       "    </tr>\n",
       "  </tbody>\n",
       "</table>\n",
       "</div>"
      ],
      "text/plain": [
       "  classifier_1 classifier_2     w         p\n",
       "0         C4.5       C4.5+m   6.5  0.010757\n",
       "2         C4.5    C4.5+m+cf  11.0  0.015906\n",
       "5      C4.5+cf    C4.5+m+cf  10.0  0.022909\n",
       "3       C4.5+m      C4.5+cf  17.0  0.046333\n",
       "4       C4.5+m    C4.5+m+cf  22.0  0.327826\n",
       "1         C4.5      C4.5+cf  43.0  0.861262"
      ]
     },
     "execution_count": 23,
     "metadata": {
      "tags": []
     },
     "output_type": "execute_result"
    }
   ],
   "source": [
    "comparison = pd.DataFrame.from_records(comparison)\n",
    "comparison.columns = ['classifier_1', 'classifier_2', 'w', 'p']\n",
    "comparison.sort_values(by='p')"
   ]
  },
  {
   "cell_type": "markdown",
   "metadata": {
    "id": "HcFlFQa9SGTO"
   },
   "source": [
    "### 5"
   ]
  },
  {
   "cell_type": "code",
   "execution_count": 26,
   "metadata": {
    "colab": {
     "base_uri": "https://localhost:8080/",
     "height": 235
    },
    "id": "0J24ExpgQlYk",
    "outputId": "0b873613-c1eb-464e-bee3-ee831554d55a"
   },
   "outputs": [
    {
     "data": {
      "text/html": [
       "<div>\n",
       "<style scoped>\n",
       "    .dataframe tbody tr th:only-of-type {\n",
       "        vertical-align: middle;\n",
       "    }\n",
       "\n",
       "    .dataframe tbody tr th {\n",
       "        vertical-align: top;\n",
       "    }\n",
       "\n",
       "    .dataframe thead th {\n",
       "        text-align: right;\n",
       "    }\n",
       "</style>\n",
       "<table border=\"1\" class=\"dataframe\">\n",
       "  <thead>\n",
       "    <tr style=\"text-align: right;\">\n",
       "      <th></th>\n",
       "      <th>classifier_1</th>\n",
       "      <th>classifier_2</th>\n",
       "      <th>w</th>\n",
       "      <th>p</th>\n",
       "      <th>p_corrected</th>\n",
       "      <th>reject</th>\n",
       "    </tr>\n",
       "  </thead>\n",
       "  <tbody>\n",
       "    <tr>\n",
       "      <th>0</th>\n",
       "      <td>C4.5</td>\n",
       "      <td>C4.5+m</td>\n",
       "      <td>6.5</td>\n",
       "      <td>0.010757</td>\n",
       "      <td>0.064543</td>\n",
       "      <td>False</td>\n",
       "    </tr>\n",
       "    <tr>\n",
       "      <th>2</th>\n",
       "      <td>C4.5</td>\n",
       "      <td>C4.5+m+cf</td>\n",
       "      <td>11.0</td>\n",
       "      <td>0.015906</td>\n",
       "      <td>0.079532</td>\n",
       "      <td>False</td>\n",
       "    </tr>\n",
       "    <tr>\n",
       "      <th>5</th>\n",
       "      <td>C4.5+cf</td>\n",
       "      <td>C4.5+m+cf</td>\n",
       "      <td>10.0</td>\n",
       "      <td>0.022909</td>\n",
       "      <td>0.091636</td>\n",
       "      <td>False</td>\n",
       "    </tr>\n",
       "    <tr>\n",
       "      <th>3</th>\n",
       "      <td>C4.5+m</td>\n",
       "      <td>C4.5+cf</td>\n",
       "      <td>17.0</td>\n",
       "      <td>0.046333</td>\n",
       "      <td>0.138998</td>\n",
       "      <td>False</td>\n",
       "    </tr>\n",
       "    <tr>\n",
       "      <th>4</th>\n",
       "      <td>C4.5+m</td>\n",
       "      <td>C4.5+m+cf</td>\n",
       "      <td>22.0</td>\n",
       "      <td>0.327826</td>\n",
       "      <td>0.655651</td>\n",
       "      <td>False</td>\n",
       "    </tr>\n",
       "    <tr>\n",
       "      <th>1</th>\n",
       "      <td>C4.5</td>\n",
       "      <td>C4.5+cf</td>\n",
       "      <td>43.0</td>\n",
       "      <td>0.861262</td>\n",
       "      <td>0.861262</td>\n",
       "      <td>False</td>\n",
       "    </tr>\n",
       "  </tbody>\n",
       "</table>\n",
       "</div>"
      ],
      "text/plain": [
       "  classifier_1 classifier_2     w         p  p_corrected  reject\n",
       "0         C4.5       C4.5+m   6.5  0.010757     0.064543   False\n",
       "2         C4.5    C4.5+m+cf  11.0  0.015906     0.079532   False\n",
       "5      C4.5+cf    C4.5+m+cf  10.0  0.022909     0.091636   False\n",
       "3       C4.5+m      C4.5+cf  17.0  0.046333     0.138998   False\n",
       "4       C4.5+m    C4.5+m+cf  22.0  0.327826     0.655651   False\n",
       "1         C4.5      C4.5+cf  43.0  0.861262     0.861262   False"
      ]
     },
     "execution_count": 26,
     "metadata": {
      "tags": []
     },
     "output_type": "execute_result"
    }
   ],
   "source": [
    "reject, p_corrected, alphacSidak, alphacBonf = multipletests(comparison.p, alpha = 0.05, method = 'holm')\n",
    "comparison_holm = comparison.copy()\n",
    "comparison_holm['p_corrected'] = p_corrected\n",
    "comparison_holm['reject'] = reject\n",
    "comparison_holm.sort_values(by='p')"
   ]
  },
  {
   "cell_type": "markdown",
   "metadata": {
    "id": "6Ow9i0NOTGxy"
   },
   "source": [
    "### 6"
   ]
  },
  {
   "cell_type": "code",
   "execution_count": 27,
   "metadata": {
    "colab": {
     "base_uri": "https://localhost:8080/",
     "height": 235
    },
    "id": "YwpQG1OLSw1g",
    "outputId": "ea184d0c-b70e-4a34-a8b1-fcf8cc43daad"
   },
   "outputs": [
    {
     "data": {
      "text/html": [
       "<div>\n",
       "<style scoped>\n",
       "    .dataframe tbody tr th:only-of-type {\n",
       "        vertical-align: middle;\n",
       "    }\n",
       "\n",
       "    .dataframe tbody tr th {\n",
       "        vertical-align: top;\n",
       "    }\n",
       "\n",
       "    .dataframe thead th {\n",
       "        text-align: right;\n",
       "    }\n",
       "</style>\n",
       "<table border=\"1\" class=\"dataframe\">\n",
       "  <thead>\n",
       "    <tr style=\"text-align: right;\">\n",
       "      <th></th>\n",
       "      <th>classifier_1</th>\n",
       "      <th>classifier_2</th>\n",
       "      <th>w</th>\n",
       "      <th>p</th>\n",
       "      <th>p_corrected</th>\n",
       "      <th>reject</th>\n",
       "    </tr>\n",
       "  </thead>\n",
       "  <tbody>\n",
       "    <tr>\n",
       "      <th>0</th>\n",
       "      <td>C4.5</td>\n",
       "      <td>C4.5+m</td>\n",
       "      <td>6.5</td>\n",
       "      <td>0.010757</td>\n",
       "      <td>0.045818</td>\n",
       "      <td>True</td>\n",
       "    </tr>\n",
       "    <tr>\n",
       "      <th>2</th>\n",
       "      <td>C4.5</td>\n",
       "      <td>C4.5+m+cf</td>\n",
       "      <td>11.0</td>\n",
       "      <td>0.015906</td>\n",
       "      <td>0.045818</td>\n",
       "      <td>True</td>\n",
       "    </tr>\n",
       "    <tr>\n",
       "      <th>5</th>\n",
       "      <td>C4.5+cf</td>\n",
       "      <td>C4.5+m+cf</td>\n",
       "      <td>10.0</td>\n",
       "      <td>0.022909</td>\n",
       "      <td>0.045818</td>\n",
       "      <td>True</td>\n",
       "    </tr>\n",
       "    <tr>\n",
       "      <th>3</th>\n",
       "      <td>C4.5+m</td>\n",
       "      <td>C4.5+cf</td>\n",
       "      <td>17.0</td>\n",
       "      <td>0.046333</td>\n",
       "      <td>0.069499</td>\n",
       "      <td>False</td>\n",
       "    </tr>\n",
       "    <tr>\n",
       "      <th>4</th>\n",
       "      <td>C4.5+m</td>\n",
       "      <td>C4.5+m+cf</td>\n",
       "      <td>22.0</td>\n",
       "      <td>0.327826</td>\n",
       "      <td>0.393391</td>\n",
       "      <td>False</td>\n",
       "    </tr>\n",
       "    <tr>\n",
       "      <th>1</th>\n",
       "      <td>C4.5</td>\n",
       "      <td>C4.5+cf</td>\n",
       "      <td>43.0</td>\n",
       "      <td>0.861262</td>\n",
       "      <td>0.861262</td>\n",
       "      <td>False</td>\n",
       "    </tr>\n",
       "  </tbody>\n",
       "</table>\n",
       "</div>"
      ],
      "text/plain": [
       "  classifier_1 classifier_2     w         p  p_corrected  reject\n",
       "0         C4.5       C4.5+m   6.5  0.010757     0.045818    True\n",
       "2         C4.5    C4.5+m+cf  11.0  0.015906     0.045818    True\n",
       "5      C4.5+cf    C4.5+m+cf  10.0  0.022909     0.045818    True\n",
       "3       C4.5+m      C4.5+cf  17.0  0.046333     0.069499   False\n",
       "4       C4.5+m    C4.5+m+cf  22.0  0.327826     0.393391   False\n",
       "1         C4.5      C4.5+cf  43.0  0.861262     0.861262   False"
      ]
     },
     "execution_count": 27,
     "metadata": {
      "tags": []
     },
     "output_type": "execute_result"
    }
   ],
   "source": [
    "reject, p_corrected, alphacSidak, alphacBonf = multipletests(comparison.p, alpha = 0.05, method = 'fdr_bh')\n",
    "comparison_fdr_bh = comparison.copy()\n",
    "comparison_fdr_bh['p_corrected'] = p_corrected\n",
    "comparison_fdr_bh['reject'] = reject\n",
    "comparison_fdr_bh.sort_values(by='p')"
   ]
  }
 ],
 "metadata": {
  "colab": {
   "name": "2_Тест_Множественная_проверка_гипотез.ipynb",
   "provenance": []
  },
  "kernelspec": {
   "display_name": "Python 3",
   "language": "python",
   "name": "python3"
  },
  "language_info": {
   "codemirror_mode": {
    "name": "ipython",
    "version": 3
   },
   "file_extension": ".py",
   "mimetype": "text/x-python",
   "name": "python",
   "nbconvert_exporter": "python",
   "pygments_lexer": "ipython3",
   "version": "3.7.6"
  }
 },
 "nbformat": 4,
 "nbformat_minor": 1
}
