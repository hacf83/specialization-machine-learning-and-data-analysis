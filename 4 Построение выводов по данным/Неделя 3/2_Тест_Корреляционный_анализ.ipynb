{
  "nbformat": 4,
  "nbformat_minor": 0,
  "metadata": {
    "colab": {
      "name": "3_Тест_Корреляционный_анализ.ipynb",
      "provenance": []
    },
    "kernelspec": {
      "name": "python3",
      "display_name": "Python 3"
    },
    "language_info": {
      "name": "python"
    }
  },
  "cells": [
    {
      "cell_type": "code",
      "metadata": {
        "id": "W8eNUtCeYXtr"
      },
      "source": [
        "import pandas as pd\n",
        "import numpy as np\n",
        "from scipy import stats"
      ],
      "execution_count": null,
      "outputs": []
    },
    {
      "cell_type": "markdown",
      "metadata": {
        "id": "MjNe6AO8ZCYS"
      },
      "source": [
        "### 1"
      ]
    },
    {
      "cell_type": "code",
      "metadata": {
        "colab": {
          "base_uri": "https://localhost:8080/",
          "height": 204
        },
        "id": "94W6jBdxZsMo",
        "outputId": "9a698c75-fcab-466c-cc12-fa2a5b348e20"
      },
      "source": [
        "water = pd.read_csv('water.txt', sep='\\t')\n",
        "water.head()"
      ],
      "execution_count": null,
      "outputs": [
        {
          "output_type": "execute_result",
          "data": {
            "text/html": [
              "<div>\n",
              "<style scoped>\n",
              "    .dataframe tbody tr th:only-of-type {\n",
              "        vertical-align: middle;\n",
              "    }\n",
              "\n",
              "    .dataframe tbody tr th {\n",
              "        vertical-align: top;\n",
              "    }\n",
              "\n",
              "    .dataframe thead th {\n",
              "        text-align: right;\n",
              "    }\n",
              "</style>\n",
              "<table border=\"1\" class=\"dataframe\">\n",
              "  <thead>\n",
              "    <tr style=\"text-align: right;\">\n",
              "      <th></th>\n",
              "      <th>location</th>\n",
              "      <th>town</th>\n",
              "      <th>mortality</th>\n",
              "      <th>hardness</th>\n",
              "    </tr>\n",
              "  </thead>\n",
              "  <tbody>\n",
              "    <tr>\n",
              "      <th>0</th>\n",
              "      <td>South</td>\n",
              "      <td>Bath</td>\n",
              "      <td>1247</td>\n",
              "      <td>105</td>\n",
              "    </tr>\n",
              "    <tr>\n",
              "      <th>1</th>\n",
              "      <td>North</td>\n",
              "      <td>Birkenhead</td>\n",
              "      <td>1668</td>\n",
              "      <td>17</td>\n",
              "    </tr>\n",
              "    <tr>\n",
              "      <th>2</th>\n",
              "      <td>South</td>\n",
              "      <td>Birmingham</td>\n",
              "      <td>1466</td>\n",
              "      <td>5</td>\n",
              "    </tr>\n",
              "    <tr>\n",
              "      <th>3</th>\n",
              "      <td>North</td>\n",
              "      <td>Blackburn</td>\n",
              "      <td>1800</td>\n",
              "      <td>14</td>\n",
              "    </tr>\n",
              "    <tr>\n",
              "      <th>4</th>\n",
              "      <td>North</td>\n",
              "      <td>Blackpool</td>\n",
              "      <td>1609</td>\n",
              "      <td>18</td>\n",
              "    </tr>\n",
              "  </tbody>\n",
              "</table>\n",
              "</div>"
            ],
            "text/plain": [
              "  location        town  mortality  hardness\n",
              "0    South        Bath       1247       105\n",
              "1    North  Birkenhead       1668        17\n",
              "2    South  Birmingham       1466         5\n",
              "3    North   Blackburn       1800        14\n",
              "4    North   Blackpool       1609        18"
            ]
          },
          "metadata": {
            "tags": []
          },
          "execution_count": 2
        }
      ]
    },
    {
      "cell_type": "code",
      "metadata": {
        "colab": {
          "base_uri": "https://localhost:8080/"
        },
        "id": "PW8AfICZZy9x",
        "outputId": "771563f6-633b-46b4-d249-73e442c6eb39"
      },
      "source": [
        "round(water['mortality'].corr(water['hardness']), 4)"
      ],
      "execution_count": null,
      "outputs": [
        {
          "output_type": "execute_result",
          "data": {
            "text/plain": [
              "-0.6548"
            ]
          },
          "metadata": {
            "tags": []
          },
          "execution_count": 3
        }
      ]
    },
    {
      "cell_type": "markdown",
      "metadata": {
        "id": "ohlbvBKHaPhH"
      },
      "source": [
        "### 2"
      ]
    },
    {
      "cell_type": "code",
      "metadata": {
        "colab": {
          "base_uri": "https://localhost:8080/"
        },
        "id": "YaZtD9JgaGzq",
        "outputId": "9a83840b-f9c5-4041-eacb-ae476a01a0a5"
      },
      "source": [
        "round(water['mortality'].corr(water['hardness'], method='spearman'), 4)"
      ],
      "execution_count": null,
      "outputs": [
        {
          "output_type": "execute_result",
          "data": {
            "text/plain": [
              "-0.6317"
            ]
          },
          "metadata": {
            "tags": []
          },
          "execution_count": 4
        }
      ]
    },
    {
      "cell_type": "markdown",
      "metadata": {
        "id": "lLPf7S_dbBwt"
      },
      "source": [
        "### 3"
      ]
    },
    {
      "cell_type": "code",
      "metadata": {
        "id": "B0rnv2rtaW9v"
      },
      "source": [
        "water_south = water[water['location'] == 'South']\n",
        "water_north = water[water['location'] == 'North']"
      ],
      "execution_count": null,
      "outputs": []
    },
    {
      "cell_type": "code",
      "metadata": {
        "colab": {
          "base_uri": "https://localhost:8080/"
        },
        "id": "008FPbL5bPb-",
        "outputId": "d0a21364-26c0-4791-82b6-5c0f4a56d52d"
      },
      "source": [
        "print(round(water_south['mortality'].corr(water_south['hardness']), 4))\n",
        "print(round(water_north['mortality'].corr(water_north['hardness']), 4))"
      ],
      "execution_count": null,
      "outputs": [
        {
          "output_type": "stream",
          "text": [
            "-0.6022\n",
            "-0.3686\n"
          ],
          "name": "stdout"
        }
      ]
    },
    {
      "cell_type": "markdown",
      "metadata": {
        "id": "IQ4U2iiUdIm8"
      },
      "source": [
        "### 4"
      ]
    },
    {
      "cell_type": "code",
      "metadata": {
        "id": "5NXNL6nsgcHl"
      },
      "source": [
        "columns = ['Sex', 'At least once a month']\n",
        "data = np.vstack((\n",
        "    np.tile([1, 1], (203, 1)), \n",
        "    np.tile([0, 1], (239, 1)),\n",
        "    np.tile([1, 0], (718, 1)),  \n",
        "    np.tile([0, 0], (515, 1))\n",
        "))\n",
        "df = pd.DataFrame(data=data, columns=columns)"
      ],
      "execution_count": null,
      "outputs": []
    },
    {
      "cell_type": "code",
      "metadata": {
        "colab": {
          "base_uri": "https://localhost:8080/",
          "height": 141
        },
        "id": "eJYhy5XklJYW",
        "outputId": "6a7d0844-ae7f-4882-eadf-61507ee162d2"
      },
      "source": [
        "ct = pd.crosstab(df['Sex'], df['At least once a month'])\n",
        "ct"
      ],
      "execution_count": null,
      "outputs": [
        {
          "output_type": "execute_result",
          "data": {
            "text/html": [
              "<div>\n",
              "<style scoped>\n",
              "    .dataframe tbody tr th:only-of-type {\n",
              "        vertical-align: middle;\n",
              "    }\n",
              "\n",
              "    .dataframe tbody tr th {\n",
              "        vertical-align: top;\n",
              "    }\n",
              "\n",
              "    .dataframe thead th {\n",
              "        text-align: right;\n",
              "    }\n",
              "</style>\n",
              "<table border=\"1\" class=\"dataframe\">\n",
              "  <thead>\n",
              "    <tr style=\"text-align: right;\">\n",
              "      <th>At least once a month</th>\n",
              "      <th>0</th>\n",
              "      <th>1</th>\n",
              "    </tr>\n",
              "    <tr>\n",
              "      <th>Sex</th>\n",
              "      <th></th>\n",
              "      <th></th>\n",
              "    </tr>\n",
              "  </thead>\n",
              "  <tbody>\n",
              "    <tr>\n",
              "      <th>0</th>\n",
              "      <td>515</td>\n",
              "      <td>239</td>\n",
              "    </tr>\n",
              "    <tr>\n",
              "      <th>1</th>\n",
              "      <td>718</td>\n",
              "      <td>203</td>\n",
              "    </tr>\n",
              "  </tbody>\n",
              "</table>\n",
              "</div>"
            ],
            "text/plain": [
              "At least once a month    0    1\n",
              "Sex                            \n",
              "0                      515  239\n",
              "1                      718  203"
            ]
          },
          "metadata": {
            "tags": []
          },
          "execution_count": 24
        }
      ]
    },
    {
      "cell_type": "code",
      "metadata": {
        "colab": {
          "base_uri": "https://localhost:8080/"
        },
        "id": "4xqPdQQAl6aF",
        "outputId": "6ce519a5-124c-45e5-fe40-7533cde20a5b"
      },
      "source": [
        "a = ct[0][0]\n",
        "b = ct[1][0]\n",
        "c = ct[0][1]\n",
        "d = ct[1][1]\n",
        "MCC = (a*d - b*c)/np.sqrt((a+b)*(a+c)*(b+d)*(c+d))\n",
        "round(MCC, 3)"
      ],
      "execution_count": null,
      "outputs": [
        {
          "output_type": "execute_result",
          "data": {
            "text/plain": [
              "-0.109"
            ]
          },
          "metadata": {
            "tags": []
          },
          "execution_count": 26
        }
      ]
    },
    {
      "cell_type": "markdown",
      "metadata": {
        "id": "dineyUDUoVtB"
      },
      "source": [
        "### 5"
      ]
    },
    {
      "cell_type": "code",
      "metadata": {
        "colab": {
          "base_uri": "https://localhost:8080/"
        },
        "id": "E_xlVNLan56D",
        "outputId": "57eb7f68-7b46-4787-b77b-c619526e9c03"
      },
      "source": [
        "chi2, p, dof, expected = stats.chi2_contingency(ct)\n",
        "print(p)"
      ],
      "execution_count": null,
      "outputs": [
        {
          "output_type": "stream",
          "text": [
            "1.0558987006638725e-05\n"
          ],
          "name": "stdout"
        }
      ]
    },
    {
      "cell_type": "markdown",
      "metadata": {
        "id": "du4oSdoUqanz"
      },
      "source": [
        "### 6"
      ]
    },
    {
      "cell_type": "code",
      "metadata": {
        "id": "Sg1XnsUQovC0"
      },
      "source": [
        "n1 = sum(ct.loc[0])\n",
        "p1 = ct[1][0]/n1\n",
        "n2 = sum(ct.loc[1])\n",
        "p2 = ct[1][1]/n2"
      ],
      "execution_count": null,
      "outputs": []
    },
    {
      "cell_type": "code",
      "metadata": {
        "colab": {
          "base_uri": "https://localhost:8080/"
        },
        "id": "kqTkxLj5sJ81",
        "outputId": "99fa2f8a-8577-435c-b998-9ef9614d84db"
      },
      "source": [
        "alpha = 0.05\n",
        "z = stats.norm.ppf(1 - alpha / 2.)   \n",
        "left_boundary = (p1 - p2) - z * np.sqrt(p1 * (1 - p1)/n1 + p2 * (1 - p2)/n2)\n",
        "right_boundary = (p1 - p2) + z * np.sqrt(p1 * (1 - p1)/n1 + p2 * (1 - p2)/n2)\n",
        "print((left_boundary, right_boundary))\n",
        "print(round(left_boundary, 4))"
      ],
      "execution_count": null,
      "outputs": [
        {
          "output_type": "stream",
          "text": [
            "(0.053905233215813156, 0.13922183141523897)\n",
            "0.0539\n"
          ],
          "name": "stdout"
        }
      ]
    },
    {
      "cell_type": "markdown",
      "metadata": {
        "id": "90TGFHWGuuxK"
      },
      "source": [
        "### 7"
      ]
    },
    {
      "cell_type": "code",
      "metadata": {
        "colab": {
          "base_uri": "https://localhost:8080/"
        },
        "id": "MMXzpXOVtsca",
        "outputId": "61ba7014-a3fd-4b02-f658-209a66819b94"
      },
      "source": [
        "P = (p1*n1 + p2*n2) / (n1 + n2)\n",
        "z_stat = (p1 - p2) / np.sqrt(P * (1 - P) * (1. / n1 + 1. / n2))\n",
        "2 * (1 - stats.norm.cdf(np.abs(z_stat)))"
      ],
      "execution_count": null,
      "outputs": [
        {
          "output_type": "execute_result",
          "data": {
            "text/plain": [
              "8.153453089576601e-06"
            ]
          },
          "metadata": {
            "tags": []
          },
          "execution_count": 13
        }
      ]
    },
    {
      "cell_type": "markdown",
      "metadata": {
        "id": "-4FL_NX72FP6"
      },
      "source": [
        "### 8"
      ]
    },
    {
      "cell_type": "code",
      "metadata": {
        "colab": {
          "base_uri": "https://localhost:8080/",
          "height": 172
        },
        "id": "DrWb7RF2u8AP",
        "outputId": "137e33d0-fc2f-49a5-8530-2f392e7a1508"
      },
      "source": [
        "columns = ['Happines', 'Financial situation']\n",
        "data = np.vstack((\n",
        "    np.tile(['Не очень счастлив', 'Не доволен'], (197, 1)), \n",
        "    np.tile(['Не очень счастлив', 'Более или менее'], (111, 1)),\n",
        "    np.tile(['Не очень счастлив', 'Доволен'], (33, 1)), \n",
        "    np.tile(['Достаточно счастлив', 'Не доволен'], (382, 1)), \n",
        "    np.tile(['Достаточно счастлив', 'Более или менее'], (685, 1)),\n",
        "    np.tile(['Достаточно счастлив', 'Доволен'], (331, 1)),\n",
        "    np.tile(['Очень счастлив', 'Не доволен'], (110, 1)), \n",
        "    np.tile(['Очень счастлив', 'Более или менее'], (342, 1)),\n",
        "    np.tile(['Очень счастлив', 'Доволен'], (333, 1))\n",
        "))\n",
        "df = pd.DataFrame(data=data, columns=columns)\n",
        "ct = pd.crosstab(df['Happines'], df['Financial situation'])\n",
        "ct"
      ],
      "execution_count": null,
      "outputs": [
        {
          "output_type": "execute_result",
          "data": {
            "text/html": [
              "<div>\n",
              "<style scoped>\n",
              "    .dataframe tbody tr th:only-of-type {\n",
              "        vertical-align: middle;\n",
              "    }\n",
              "\n",
              "    .dataframe tbody tr th {\n",
              "        vertical-align: top;\n",
              "    }\n",
              "\n",
              "    .dataframe thead th {\n",
              "        text-align: right;\n",
              "    }\n",
              "</style>\n",
              "<table border=\"1\" class=\"dataframe\">\n",
              "  <thead>\n",
              "    <tr style=\"text-align: right;\">\n",
              "      <th>Financial situation</th>\n",
              "      <th>Более или менее</th>\n",
              "      <th>Доволен</th>\n",
              "      <th>Не доволен</th>\n",
              "    </tr>\n",
              "    <tr>\n",
              "      <th>Happines</th>\n",
              "      <th></th>\n",
              "      <th></th>\n",
              "      <th></th>\n",
              "    </tr>\n",
              "  </thead>\n",
              "  <tbody>\n",
              "    <tr>\n",
              "      <th>Достаточно счастлив</th>\n",
              "      <td>685</td>\n",
              "      <td>331</td>\n",
              "      <td>382</td>\n",
              "    </tr>\n",
              "    <tr>\n",
              "      <th>Не очень счастлив</th>\n",
              "      <td>111</td>\n",
              "      <td>33</td>\n",
              "      <td>197</td>\n",
              "    </tr>\n",
              "    <tr>\n",
              "      <th>Очень счастлив</th>\n",
              "      <td>342</td>\n",
              "      <td>333</td>\n",
              "      <td>110</td>\n",
              "    </tr>\n",
              "  </tbody>\n",
              "</table>\n",
              "</div>"
            ],
            "text/plain": [
              "Financial situation  Более или менее  Доволен  Не доволен\n",
              "Happines                                                 \n",
              "Достаточно счастлив              685      331         382\n",
              "Не очень счастлив                111       33         197\n",
              "Очень счастлив                   342      333         110"
            ]
          },
          "metadata": {
            "tags": []
          },
          "execution_count": 14
        }
      ]
    },
    {
      "cell_type": "code",
      "metadata": {
        "colab": {
          "base_uri": "https://localhost:8080/"
        },
        "id": "LOmbzqh725lI",
        "outputId": "9da2aa42-4f70-421a-9bbf-6cd70bb930e3"
      },
      "source": [
        "chi2, p, dof, expected = stats.chi2_contingency(ct)\n",
        "print(round(chi2, 4))"
      ],
      "execution_count": null,
      "outputs": [
        {
          "output_type": "stream",
          "text": [
            "293.6831\n"
          ],
          "name": "stdout"
        }
      ]
    },
    {
      "cell_type": "markdown",
      "metadata": {
        "id": "UX5iQunj38vK"
      },
      "source": [
        "### 9"
      ]
    },
    {
      "cell_type": "code",
      "metadata": {
        "colab": {
          "base_uri": "https://localhost:8080/"
        },
        "id": "0z2MnUC734Dq",
        "outputId": "d22d94e1-090c-404e-d49a-357f899fc6d1"
      },
      "source": [
        "p"
      ],
      "execution_count": null,
      "outputs": [
        {
          "output_type": "execute_result",
          "data": {
            "text/plain": [
              "2.4964299580093467e-62"
            ]
          },
          "metadata": {
            "tags": []
          },
          "execution_count": 22
        }
      ]
    },
    {
      "cell_type": "markdown",
      "metadata": {
        "id": "zjAYPcTi4fy6"
      },
      "source": [
        "### 10"
      ]
    },
    {
      "cell_type": "code",
      "metadata": {
        "colab": {
          "base_uri": "https://localhost:8080/"
        },
        "id": "Vvp2-vDt5ND2",
        "outputId": "5035143e-be2d-4f28-fc1c-979df48131ca"
      },
      "source": [
        "n = np.sum(ct.values)\n",
        "round(np.sqrt(chi2/(n*2)), 4)"
      ],
      "execution_count": null,
      "outputs": [
        {
          "output_type": "execute_result",
          "data": {
            "text/plain": [
              "0.2412"
            ]
          },
          "metadata": {
            "tags": []
          },
          "execution_count": 18
        }
      ]
    }
  ]
}