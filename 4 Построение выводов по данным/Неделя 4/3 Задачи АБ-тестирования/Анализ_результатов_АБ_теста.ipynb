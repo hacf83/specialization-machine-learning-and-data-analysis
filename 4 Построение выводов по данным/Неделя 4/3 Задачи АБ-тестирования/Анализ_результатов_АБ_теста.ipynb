{
 "cells": [
  {
   "cell_type": "code",
   "execution_count": 34,
   "metadata": {
    "id": "Jenj_xQJroXL"
   },
   "outputs": [],
   "source": [
    "import pandas as pd\n",
    "import numpy as np\n",
    "import matplotlib.pyplot as plt\n",
    "from scipy.stats import probplot, mannwhitneyu "
   ]
  },
  {
   "cell_type": "code",
   "execution_count": 2,
   "metadata": {
    "colab": {
     "base_uri": "https://localhost:8080/",
     "height": 204
    },
    "id": "n9yHwVPrsdq9",
    "outputId": "7042561f-94ea-4cd2-f2cb-1627bc888bf1"
   },
   "outputs": [
    {
     "data": {
      "text/html": [
       "<div>\n",
       "<style scoped>\n",
       "    .dataframe tbody tr th:only-of-type {\n",
       "        vertical-align: middle;\n",
       "    }\n",
       "\n",
       "    .dataframe tbody tr th {\n",
       "        vertical-align: top;\n",
       "    }\n",
       "\n",
       "    .dataframe thead th {\n",
       "        text-align: right;\n",
       "    }\n",
       "</style>\n",
       "<table border=\"1\" class=\"dataframe\">\n",
       "  <thead>\n",
       "    <tr style=\"text-align: right;\">\n",
       "      <th></th>\n",
       "      <th>userID</th>\n",
       "      <th>browser</th>\n",
       "      <th>slot</th>\n",
       "      <th>n_clicks</th>\n",
       "      <th>n_queries</th>\n",
       "      <th>n_nonclk_queries</th>\n",
       "    </tr>\n",
       "  </thead>\n",
       "  <tbody>\n",
       "    <tr>\n",
       "      <th>0</th>\n",
       "      <td>1</td>\n",
       "      <td>Browser #2</td>\n",
       "      <td>exp</td>\n",
       "      <td>23</td>\n",
       "      <td>32</td>\n",
       "      <td>19</td>\n",
       "    </tr>\n",
       "    <tr>\n",
       "      <th>1</th>\n",
       "      <td>3</td>\n",
       "      <td>Browser #4</td>\n",
       "      <td>exp</td>\n",
       "      <td>3</td>\n",
       "      <td>4</td>\n",
       "      <td>2</td>\n",
       "    </tr>\n",
       "    <tr>\n",
       "      <th>2</th>\n",
       "      <td>5</td>\n",
       "      <td>Browser #4</td>\n",
       "      <td>exp</td>\n",
       "      <td>29</td>\n",
       "      <td>35</td>\n",
       "      <td>16</td>\n",
       "    </tr>\n",
       "    <tr>\n",
       "      <th>3</th>\n",
       "      <td>6</td>\n",
       "      <td>Browser #4</td>\n",
       "      <td>control</td>\n",
       "      <td>12</td>\n",
       "      <td>6</td>\n",
       "      <td>0</td>\n",
       "    </tr>\n",
       "    <tr>\n",
       "      <th>4</th>\n",
       "      <td>7</td>\n",
       "      <td>Browser #4</td>\n",
       "      <td>exp</td>\n",
       "      <td>54</td>\n",
       "      <td>68</td>\n",
       "      <td>30</td>\n",
       "    </tr>\n",
       "  </tbody>\n",
       "</table>\n",
       "</div>"
      ],
      "text/plain": [
       "   userID     browser     slot  n_clicks  n_queries  n_nonclk_queries\n",
       "0       1  Browser #2      exp        23         32                19\n",
       "1       3  Browser #4      exp         3          4                 2\n",
       "2       5  Browser #4      exp        29         35                16\n",
       "3       6  Browser #4  control        12          6                 0\n",
       "4       7  Browser #4      exp        54         68                30"
      ]
     },
     "execution_count": 2,
     "metadata": {},
     "output_type": "execute_result"
    }
   ],
   "source": [
    "df = pd.read_csv('ab_browser_test.csv')\n",
    "df.head()"
   ]
  },
  {
   "cell_type": "code",
   "execution_count": 3,
   "metadata": {
    "id": "AgvDN8s3vjCg"
   },
   "outputs": [],
   "source": [
    "control = df[df['slot'] == 'control']\n",
    "exp = df[df['slot'] == 'exp']"
   ]
  },
  {
   "cell_type": "markdown",
   "metadata": {
    "id": "WYKorgPys-A7"
   },
   "source": [
    "### 1"
   ]
  },
  {
   "cell_type": "code",
   "execution_count": 4,
   "metadata": {
    "colab": {
     "base_uri": "https://localhost:8080/"
    },
    "id": "cO88R5jisqtz",
    "outputId": "ddadc4bb-aaca-4cce-b26d-a8f6ed6409e5"
   },
   "outputs": [
    {
     "data": {
      "text/plain": [
       "1.614"
      ]
     },
     "execution_count": 4,
     "metadata": {},
     "output_type": "execute_result"
    }
   ],
   "source": [
    "control_n_clicks = sum(control['n_clicks'])\n",
    "exp_n_clicks = sum(exp['n_clicks'])\n",
    "round((exp_n_clicks - control_n_clicks) * 100 / control_n_clicks, 3)"
   ]
  },
  {
   "cell_type": "markdown",
   "metadata": {
    "id": "ws03hV4huMy5"
   },
   "source": [
    "### 2"
   ]
  },
  {
   "cell_type": "code",
   "execution_count": 5,
   "metadata": {
    "id": "xBZEnIAXtapx"
   },
   "outputs": [],
   "source": [
    "def get_bootstrap_samples(data, n_samples):\n",
    "    indices = np.random.randint(0, len(data), (n_samples, len(data)))\n",
    "    samples = data[indices]\n",
    "    return samples"
   ]
  },
  {
   "cell_type": "code",
   "execution_count": 6,
   "metadata": {
    "id": "i5Vto9eAwsHX"
   },
   "outputs": [],
   "source": [
    "def stat_intervals(stat, alpha):\n",
    "    boundaries = np.percentile(stat, [100 * alpha / 2., 100 * (1 - alpha / 2.)])\n",
    "    return boundaries"
   ]
  },
  {
   "cell_type": "code",
   "execution_count": 7,
   "metadata": {
    "colab": {
     "base_uri": "https://localhost:8080/"
    },
    "id": "J-TZQBoxxDmU",
    "outputId": "ccbc98d3-8232-4335-b956-18b9e7bb3e11"
   },
   "outputs": [
    {
     "name": "stdout",
     "output_type": "stream",
     "text": [
      "95% доверительный интервал для разности медиа: [1. 1.]\n"
     ]
    }
   ],
   "source": [
    "np.random.seed(0)\n",
    "\n",
    "control_n_clicks_median = list(map(np.median, get_bootstrap_samples(control['n_clicks'].values, 1000)))\n",
    "exp_n_clicks_median = list(map(np.median, get_bootstrap_samples(exp['n_clicks'].values, 1000)))\n",
    "delta_median_scores = list(map(lambda x: x[0] - x[1], zip(exp_n_clicks_median, control_n_clicks_median)))\n",
    "\n",
    "print('95% доверительный интервал для разности медиа:', stat_intervals(delta_median_scores, 0.05))"
   ]
  },
  {
   "cell_type": "code",
   "execution_count": 9,
   "metadata": {
    "colab": {
     "base_uri": "https://localhost:8080/"
    },
    "id": "jjafcmPQybpb",
    "outputId": "c7ad789b-cc73-4ba4-bc39-e259dcaa46ef"
   },
   "outputs": [
    {
     "name": "stdout",
     "output_type": "stream",
     "text": [
      "95% доверительный интервал для разности средних: [0.18536146 0.40808575]\n"
     ]
    }
   ],
   "source": [
    "np.random.seed(0)\n",
    "\n",
    "control_n_clicks_mean = list(map(np.mean, get_bootstrap_samples(control['n_clicks'].values, 1000)))\n",
    "exp_n_clicks_mean = list(map(np.mean, get_bootstrap_samples(exp['n_clicks'].values, 1000)))\n",
    "delta_mean_scores = list(map(lambda x: x[0] - x[1], zip(exp_n_clicks_mean, control_n_clicks_mean)))\n",
    "\n",
    "print('95% доверительный интервал для разности средних:', stat_intervals(delta_mean_scores, 0.05))"
   ]
  },
  {
   "cell_type": "markdown",
   "metadata": {
    "id": "WLGGCAg41wgc"
   },
   "source": [
    "### 4"
   ]
  },
  {
   "cell_type": "code",
   "execution_count": 23,
   "metadata": {
    "id": "mfVb2o3y5pmf"
   },
   "outputs": [],
   "source": [
    "np.random.seed(0)\n",
    "n_boot_samples = 500\n",
    "control_boot_mean = list(map(np.mean, get_bootstrap_samples(control['n_clicks'].values, n_boot_samples)))\n",
    "control_boot_chi_squared = list(map(lambda sample: sum((sample - np.mean(sample))**2), \n",
    "                                    get_bootstrap_samples(control['n_clicks'].values, n_boot_samples)))"
   ]
  },
  {
   "cell_type": "code",
   "execution_count": 32,
   "metadata": {
    "colab": {
     "base_uri": "https://localhost:8080/",
     "height": 313
    },
    "id": "UlZPJX2LAMvx",
    "outputId": "1f444139-81ea-4848-84c8-c0447ec5276d"
   },
   "outputs": [
    {
     "name": "stdout",
     "output_type": "stream",
     "text": [
      "0.9979748364604202\n"
     ]
    },
    {
     "data": {
      "image/png": "[encoded data removed]",
      "text/plain": [
       "<Figure size 432x288 with 1 Axes>"
      ]
     },
     "metadata": {
      "needs_background": "light"
     },
     "output_type": "display_data"
    }
   ],
   "source": [
    "(osm, osr), (slope, intercept, r) = probplot(control_boot_mean, plot=plt)\n",
    "print(r)"
   ]
  },
  {
   "cell_type": "code",
   "execution_count": 33,
   "metadata": {
    "colab": {
     "base_uri": "https://localhost:8080/",
     "height": 313
    },
    "id": "DH_yvLupBQVF",
    "outputId": "d8b69cee-b5e3-4e07-a360-faee4855cd9e"
   },
   "outputs": [
    {
     "name": "stdout",
     "output_type": "stream",
     "text": [
      "0.9976502680020735\n"
     ]
    },
    {
     "data": {
      "image/png": "[encoded data removed]",
      "text/plain": [
       "<Figure size 432x288 with 1 Axes>"
      ]
     },
     "metadata": {
      "needs_background": "light"
     },
     "output_type": "display_data"
    }
   ],
   "source": [
    "(osm, osr), (slope, intercept, r) = probplot(control_boot_chi_squared, sparams=n_boot_samples-1, plot=plt)\n",
    "print(r)"
   ]
  },
  {
   "cell_type": "markdown",
   "metadata": {
    "id": "bUwRtIOkCT98"
   },
   "source": [
    "### 5"
   ]
  },
  {
   "cell_type": "code",
   "execution_count": 44,
   "metadata": {
    "id": "epe_k1eyHMOZ"
   },
   "outputs": [],
   "source": [
    "control = df[df['slot'] == 'control'].groupby(by='userID')['n_clicks'].agg('sum')\n",
    "exp = df[df['slot'] == 'exp'].groupby(by='userID')['n_clicks'].agg('sum')"
   ]
  },
  {
   "cell_type": "code",
   "execution_count": 45,
   "metadata": {
    "colab": {
     "base_uri": "https://localhost:8080/"
    },
    "id": "wxJWqbbrH_q-",
    "outputId": "d2f4b6de-2b42-4c82-d83d-44d87ed9c7a1"
   },
   "outputs": [
    {
     "data": {
      "text/plain": [
       "MannwhitneyuResult(statistic=38901259929.0, pvalue=4.3471471887604393e-75)"
      ]
     },
     "execution_count": 45,
     "metadata": {},
     "output_type": "execute_result"
    }
   ],
   "source": [
    "mannwhitneyu(control, exp)"
   ]
  },
  {
   "cell_type": "markdown",
   "metadata": {
    "id": "RG8aTC9zJZRP"
   },
   "source": [
    "### 6"
   ]
  },
  {
   "cell_type": "code",
   "execution_count": 66,
   "metadata": {
    "colab": {
     "base_uri": "https://localhost:8080/"
    },
    "id": "bt0qYUAKJdYP",
    "outputId": "c06e4f0a-d79a-457b-9ba8-2cb6ee15272d"
   },
   "outputs": [
    {
     "name": "stdout",
     "output_type": "stream",
     "text": [
      "alpha:  0.008333333333333333\n",
      "Browser #2: 0.0272438604197241\n",
      "Browser #4: 0.40760617658454984\n",
      "Browser #14: 0.0\n",
      "Browser #17: 0.03740060143010802\n",
      "Browser #20: 0.45366656388735377\n",
      "Browser #22: 0.2574055152210032\n",
      "5\n"
     ]
    }
   ],
   "source": [
    "alpha = 0.05 / 6\n",
    "n_stat_insign = 0\n",
    "print('alpha: ', alpha)\n",
    "for browser_i in df['browser'].unique():\n",
    "    control_browser_i = df.loc[(df['slot'] == 'control') & (df['browser'] == browser_i), 'n_clicks']\n",
    "    exp_browser_i = df.loc[(df['slot'] == 'exp') & (df['browser'] == browser_i), 'n_clicks']\n",
    "    statistic, pvalue = mannwhitneyu(control_browser_i, exp_browser_i)\n",
    "    if pvalue >= alpha:\n",
    "        n_stat_insign += 1\n",
    "    print(f'{browser_i}: {pvalue}')\n",
    "print(n_stat_insign)"
   ]
  },
  {
   "cell_type": "markdown",
   "metadata": {
    "id": "ZtlyITbTPcXk"
   },
   "source": [
    "### 7"
   ]
  },
  {
   "cell_type": "code",
   "execution_count": 67,
   "metadata": {
    "id": "wreSAfBqLlB3"
   },
   "outputs": [],
   "source": [
    "control = df[df['slot'] == 'control']\n",
    "exp = df[df['slot'] == 'exp']"
   ]
  },
  {
   "cell_type": "code",
   "execution_count": 69,
   "metadata": {
    "colab": {
     "base_uri": "https://localhost:8080/"
    },
    "id": "VS95X3iVTWDM",
    "outputId": "57a9bd5d-12a7-4c8e-e7b8-c52acb5a04d9"
   },
   "outputs": [
    {
     "name": "stdout",
     "output_type": "stream",
     "text": [
      "Browser #2\n",
      "control: 45.96274717919465, exp: 44.982746948554706\n",
      "Browser #4\n",
      "control: 46.97092963514274, exp: 45.14294190358467\n",
      "Browser #14\n",
      "control: 57.59041136008114, exp: 43.755617361273295\n",
      "Browser #17\n",
      "control: 36.29936674628209, exp: 36.93741284866483\n",
      "Browser #20\n",
      "control: 40.540484743383296, exp: 38.97737648371716\n",
      "Browser #22\n",
      "control: 40.593976593513354, exp: 39.85394721969546\n"
     ]
    }
   ],
   "source": [
    "for browser_i in df['browser'].unique():\n",
    "    control_browser_i = control[control['browser'] == browser_i]\n",
    "    exp_browser_i = exp[exp['browser'] == browser_i]\n",
    "    control_ratio_no_clicks = sum(control_browser_i['n_nonclk_queries']) * 100 / sum(control_browser_i['n_queries'])\n",
    "    exp_ratio_no_clicks = sum(exp_browser_i['n_nonclk_queries']) * 100 / sum(exp_browser_i['n_queries'])\n",
    "    print(browser_i)\n",
    "    print(f'control: {control_ratio_no_clicks}, exp: {exp_ratio_no_clicks}')"
   ]
  }
 ],
 "metadata": {
  "colab": {
   "name": "Анализ результатов АБ-теста.ipynb",
   "provenance": []
  },
  "kernelspec": {
   "display_name": "Python 3",
   "language": "python",
   "name": "python3"
  },
  "language_info": {
   "codemirror_mode": {
    "name": "ipython",
    "version": 3
   },
   "file_extension": ".py",
   "mimetype": "text/x-python",
   "name": "python",
   "nbconvert_exporter": "python",
   "pygments_lexer": "ipython3",
   "version": "3.7.6"
  }
 },
 "nbformat": 4,
 "nbformat_minor": 1
}
