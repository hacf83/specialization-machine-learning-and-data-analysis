{
 "cells": [
  {
   "cell_type": "code",
   "execution_count": 136,
   "metadata": {
    "id": "_MGgx3isxrfF"
   },
   "outputs": [],
   "source": [
    "import pandas as pd\n",
    "from scipy import stats\n",
    "from statsmodels.sandbox.stats.multicomp import multipletests "
   ]
  },
  {
   "cell_type": "code",
   "execution_count": 137,
   "metadata": {
    "colab": {
     "base_uri": "https://localhost:8080/",
     "height": 252
    },
    "id": "Kjyt-BD3x6Lp",
    "outputId": "6fe3c502-d035-40e5-d2b8-ea4460bb2a79"
   },
   "outputs": [
    {
     "data": {
      "text/html": [
       "<div>\n",
       "<style scoped>\n",
       "    .dataframe tbody tr th:only-of-type {\n",
       "        vertical-align: middle;\n",
       "    }\n",
       "\n",
       "    .dataframe tbody tr th {\n",
       "        vertical-align: top;\n",
       "    }\n",
       "\n",
       "    .dataframe thead th {\n",
       "        text-align: right;\n",
       "    }\n",
       "</style>\n",
       "<table border=\"1\" class=\"dataframe\">\n",
       "  <thead>\n",
       "    <tr style=\"text-align: right;\">\n",
       "      <th></th>\n",
       "      <th>Patient_id</th>\n",
       "      <th>Diagnosis</th>\n",
       "      <th>LOC643837</th>\n",
       "      <th>LOC100130417</th>\n",
       "      <th>SAMD11</th>\n",
       "      <th>NOC2L</th>\n",
       "      <th>KLHL17</th>\n",
       "      <th>PLEKHN1</th>\n",
       "      <th>C1orf170</th>\n",
       "      <th>HES4</th>\n",
       "      <th>ISG15</th>\n",
       "      <th>AGRN</th>\n",
       "      <th>C1orf159</th>\n",
       "      <th>LOC254099</th>\n",
       "      <th>TTLL10</th>\n",
       "      <th>TNFRSF18</th>\n",
       "      <th>TNFRSF4</th>\n",
       "      <th>SDF4</th>\n",
       "      <th>B3GALT6</th>\n",
       "      <th>FAM132A</th>\n",
       "      <th>UBE2J2</th>\n",
       "      <th>SCNN1D</th>\n",
       "      <th>ACAP3</th>\n",
       "      <th>PUSL1</th>\n",
       "      <th>CPSF3L</th>\n",
       "      <th>GLTPD1</th>\n",
       "      <th>DVL1</th>\n",
       "      <th>MXRA8</th>\n",
       "      <th>AURKAIP1</th>\n",
       "      <th>CCNL2</th>\n",
       "      <th>LOC148413</th>\n",
       "      <th>MRPL20</th>\n",
       "      <th>LOC441869</th>\n",
       "      <th>VWA1</th>\n",
       "      <th>ATAD3C</th>\n",
       "      <th>ATAD3B</th>\n",
       "      <th>ATAD3A</th>\n",
       "      <th>C1orf70</th>\n",
       "      <th>SSU72</th>\n",
       "      <th>LOC643988</th>\n",
       "      <th>...</th>\n",
       "      <th>RENBP</th>\n",
       "      <th>HCFC1</th>\n",
       "      <th>TMEM187</th>\n",
       "      <th>IRAK1</th>\n",
       "      <th>MECP2</th>\n",
       "      <th>TKTL1</th>\n",
       "      <th>FLNA</th>\n",
       "      <th>EMD</th>\n",
       "      <th>RPL10</th>\n",
       "      <th>SNORA70</th>\n",
       "      <th>DNASE1L1</th>\n",
       "      <th>TAZ</th>\n",
       "      <th>ATP6AP1</th>\n",
       "      <th>GDI1</th>\n",
       "      <th>FAM50A</th>\n",
       "      <th>PLXNA3</th>\n",
       "      <th>LAGE3</th>\n",
       "      <th>UBL4A</th>\n",
       "      <th>SLC10A3</th>\n",
       "      <th>FAM3A</th>\n",
       "      <th>G6PD</th>\n",
       "      <th>GAB3</th>\n",
       "      <th>DKC1</th>\n",
       "      <th>MPP1</th>\n",
       "      <th>F8</th>\n",
       "      <th>FUNDC2</th>\n",
       "      <th>MTCP1NB</th>\n",
       "      <th>MTCP1</th>\n",
       "      <th>VBP1</th>\n",
       "      <th>RAB39B</th>\n",
       "      <th>CLIC2</th>\n",
       "      <th>RPS4Y1</th>\n",
       "      <th>ZFY</th>\n",
       "      <th>PRKY</th>\n",
       "      <th>USP9Y</th>\n",
       "      <th>DDX3Y</th>\n",
       "      <th>CD24</th>\n",
       "      <th>CYorf15B</th>\n",
       "      <th>KDM5D</th>\n",
       "      <th>EIF1AY</th>\n",
       "    </tr>\n",
       "  </thead>\n",
       "  <tbody>\n",
       "    <tr>\n",
       "      <th>0</th>\n",
       "      <td>STT5425_Breast_001_normal</td>\n",
       "      <td>normal</td>\n",
       "      <td>1.257614</td>\n",
       "      <td>2.408148</td>\n",
       "      <td>13.368622</td>\n",
       "      <td>9.494779</td>\n",
       "      <td>20.880435</td>\n",
       "      <td>12.722017</td>\n",
       "      <td>9.494779</td>\n",
       "      <td>54.349694</td>\n",
       "      <td>26.329928</td>\n",
       "      <td>57.553312</td>\n",
       "      <td>42.455733</td>\n",
       "      <td>6.614939</td>\n",
       "      <td>7.786382</td>\n",
       "      <td>14.283751</td>\n",
       "      <td>18.752091</td>\n",
       "      <td>65.825821</td>\n",
       "      <td>17.471334</td>\n",
       "      <td>14.135344</td>\n",
       "      <td>42.949564</td>\n",
       "      <td>35.946652</td>\n",
       "      <td>50.945017</td>\n",
       "      <td>19.738267</td>\n",
       "      <td>52.172044</td>\n",
       "      <td>34.753563</td>\n",
       "      <td>27.810055</td>\n",
       "      <td>83.303689</td>\n",
       "      <td>59.428091</td>\n",
       "      <td>42.306459</td>\n",
       "      <td>13.209938</td>\n",
       "      <td>20.161089</td>\n",
       "      <td>1.257614</td>\n",
       "      <td>66.621905</td>\n",
       "      <td>3.772842</td>\n",
       "      <td>40.210889</td>\n",
       "      <td>30.278655</td>\n",
       "      <td>14.576032</td>\n",
       "      <td>73.168939</td>\n",
       "      <td>34.692832</td>\n",
       "      <td>...</td>\n",
       "      <td>3.164926</td>\n",
       "      <td>20.369209</td>\n",
       "      <td>5.577156</td>\n",
       "      <td>22.438224</td>\n",
       "      <td>20.981186</td>\n",
       "      <td>1.257614</td>\n",
       "      <td>146.983123</td>\n",
       "      <td>33.074695</td>\n",
       "      <td>4.761250</td>\n",
       "      <td>5.185276</td>\n",
       "      <td>15.282298</td>\n",
       "      <td>24.761483</td>\n",
       "      <td>66.017756</td>\n",
       "      <td>51.888333</td>\n",
       "      <td>40.000566</td>\n",
       "      <td>19.950798</td>\n",
       "      <td>19.306187</td>\n",
       "      <td>26.007591</td>\n",
       "      <td>10.139210</td>\n",
       "      <td>40.105866</td>\n",
       "      <td>43.047651</td>\n",
       "      <td>4.761250</td>\n",
       "      <td>30.624906</td>\n",
       "      <td>9.714340</td>\n",
       "      <td>5.577156</td>\n",
       "      <td>4.761250</td>\n",
       "      <td>10.139210</td>\n",
       "      <td>2.408148</td>\n",
       "      <td>12.214621</td>\n",
       "      <td>3.164926</td>\n",
       "      <td>4.761250</td>\n",
       "      <td>1.257614</td>\n",
       "      <td>1.257614</td>\n",
       "      <td>1.257614</td>\n",
       "      <td>1.257614</td>\n",
       "      <td>1.257614</td>\n",
       "      <td>23.268694</td>\n",
       "      <td>1.257614</td>\n",
       "      <td>1.257614</td>\n",
       "      <td>1.257614</td>\n",
       "    </tr>\n",
       "    <tr>\n",
       "      <th>1</th>\n",
       "      <td>STT5427_Breast_023_normal</td>\n",
       "      <td>normal</td>\n",
       "      <td>4.567931</td>\n",
       "      <td>16.602734</td>\n",
       "      <td>42.477752</td>\n",
       "      <td>25.562376</td>\n",
       "      <td>23.221137</td>\n",
       "      <td>11.622386</td>\n",
       "      <td>14.330573</td>\n",
       "      <td>72.445474</td>\n",
       "      <td>39.140813</td>\n",
       "      <td>119.572567</td>\n",
       "      <td>47.367114</td>\n",
       "      <td>4.567931</td>\n",
       "      <td>8.049497</td>\n",
       "      <td>31.421187</td>\n",
       "      <td>19.744990</td>\n",
       "      <td>123.120249</td>\n",
       "      <td>20.615707</td>\n",
       "      <td>16.865244</td>\n",
       "      <td>73.826942</td>\n",
       "      <td>45.474497</td>\n",
       "      <td>63.043023</td>\n",
       "      <td>28.021783</td>\n",
       "      <td>62.483096</td>\n",
       "      <td>60.409871</td>\n",
       "      <td>41.747570</td>\n",
       "      <td>124.715481</td>\n",
       "      <td>128.770634</td>\n",
       "      <td>33.452597</td>\n",
       "      <td>17.876777</td>\n",
       "      <td>28.947097</td>\n",
       "      <td>1.815112</td>\n",
       "      <td>113.503762</td>\n",
       "      <td>1.815112</td>\n",
       "      <td>45.954959</td>\n",
       "      <td>36.946925</td>\n",
       "      <td>15.222429</td>\n",
       "      <td>127.777507</td>\n",
       "      <td>66.567847</td>\n",
       "      <td>...</td>\n",
       "      <td>12.355210</td>\n",
       "      <td>22.255175</td>\n",
       "      <td>9.075559</td>\n",
       "      <td>38.347144</td>\n",
       "      <td>21.245338</td>\n",
       "      <td>1.815112</td>\n",
       "      <td>152.191825</td>\n",
       "      <td>49.097571</td>\n",
       "      <td>8.577883</td>\n",
       "      <td>1.815112</td>\n",
       "      <td>23.965891</td>\n",
       "      <td>30.426817</td>\n",
       "      <td>160.727095</td>\n",
       "      <td>82.216081</td>\n",
       "      <td>60.045184</td>\n",
       "      <td>40.681726</td>\n",
       "      <td>70.040738</td>\n",
       "      <td>44.200859</td>\n",
       "      <td>13.379397</td>\n",
       "      <td>60.045184</td>\n",
       "      <td>72.566645</td>\n",
       "      <td>1.815112</td>\n",
       "      <td>21.451109</td>\n",
       "      <td>6.199787</td>\n",
       "      <td>1.815112</td>\n",
       "      <td>6.199787</td>\n",
       "      <td>5.445335</td>\n",
       "      <td>3.475674</td>\n",
       "      <td>9.075559</td>\n",
       "      <td>1.815112</td>\n",
       "      <td>6.871902</td>\n",
       "      <td>1.815112</td>\n",
       "      <td>1.815112</td>\n",
       "      <td>1.815112</td>\n",
       "      <td>1.815112</td>\n",
       "      <td>1.815112</td>\n",
       "      <td>10.427023</td>\n",
       "      <td>1.815112</td>\n",
       "      <td>1.815112</td>\n",
       "      <td>1.815112</td>\n",
       "    </tr>\n",
       "    <tr>\n",
       "      <th>2</th>\n",
       "      <td>STT5430_Breast_002_normal</td>\n",
       "      <td>normal</td>\n",
       "      <td>2.077597</td>\n",
       "      <td>3.978294</td>\n",
       "      <td>12.863214</td>\n",
       "      <td>13.728915</td>\n",
       "      <td>14.543176</td>\n",
       "      <td>14.141907</td>\n",
       "      <td>6.232790</td>\n",
       "      <td>57.011005</td>\n",
       "      <td>48.144685</td>\n",
       "      <td>55.579752</td>\n",
       "      <td>41.741942</td>\n",
       "      <td>3.978294</td>\n",
       "      <td>6.232790</td>\n",
       "      <td>24.317644</td>\n",
       "      <td>28.662801</td>\n",
       "      <td>64.494789</td>\n",
       "      <td>14.543176</td>\n",
       "      <td>12.407734</td>\n",
       "      <td>37.531155</td>\n",
       "      <td>32.074035</td>\n",
       "      <td>63.596176</td>\n",
       "      <td>13.303109</td>\n",
       "      <td>42.016789</td>\n",
       "      <td>26.142516</td>\n",
       "      <td>22.853562</td>\n",
       "      <td>76.118706</td>\n",
       "      <td>56.095106</td>\n",
       "      <td>40.053273</td>\n",
       "      <td>13.303109</td>\n",
       "      <td>20.461953</td>\n",
       "      <td>2.077597</td>\n",
       "      <td>58.702060</td>\n",
       "      <td>2.077597</td>\n",
       "      <td>42.153541</td>\n",
       "      <td>30.416278</td>\n",
       "      <td>16.750119</td>\n",
       "      <td>70.137476</td>\n",
       "      <td>35.481715</td>\n",
       "      <td>...</td>\n",
       "      <td>5.228503</td>\n",
       "      <td>20.178729</td>\n",
       "      <td>3.978294</td>\n",
       "      <td>20.741310</td>\n",
       "      <td>22.085154</td>\n",
       "      <td>3.978294</td>\n",
       "      <td>145.308037</td>\n",
       "      <td>27.008755</td>\n",
       "      <td>6.232790</td>\n",
       "      <td>7.096343</td>\n",
       "      <td>16.750119</td>\n",
       "      <td>24.553171</td>\n",
       "      <td>58.702060</td>\n",
       "      <td>46.192467</td>\n",
       "      <td>44.154018</td>\n",
       "      <td>20.178729</td>\n",
       "      <td>13.728915</td>\n",
       "      <td>23.839609</td>\n",
       "      <td>7.865653</td>\n",
       "      <td>37.684188</td>\n",
       "      <td>39.474334</td>\n",
       "      <td>5.228503</td>\n",
       "      <td>38.139602</td>\n",
       "      <td>9.213541</td>\n",
       "      <td>6.232790</td>\n",
       "      <td>2.077597</td>\n",
       "      <td>12.407734</td>\n",
       "      <td>7.096343</td>\n",
       "      <td>10.387983</td>\n",
       "      <td>6.232790</td>\n",
       "      <td>7.096343</td>\n",
       "      <td>2.077597</td>\n",
       "      <td>2.077597</td>\n",
       "      <td>2.077597</td>\n",
       "      <td>2.077597</td>\n",
       "      <td>2.077597</td>\n",
       "      <td>22.344226</td>\n",
       "      <td>2.077597</td>\n",
       "      <td>2.077597</td>\n",
       "      <td>2.077597</td>\n",
       "    </tr>\n",
       "    <tr>\n",
       "      <th>3</th>\n",
       "      <td>STT5439_Breast_003_normal</td>\n",
       "      <td>normal</td>\n",
       "      <td>2.066576</td>\n",
       "      <td>8.520713</td>\n",
       "      <td>14.466035</td>\n",
       "      <td>7.823932</td>\n",
       "      <td>8.520713</td>\n",
       "      <td>2.066576</td>\n",
       "      <td>10.870009</td>\n",
       "      <td>53.292034</td>\n",
       "      <td>27.076621</td>\n",
       "      <td>54.454714</td>\n",
       "      <td>35.933084</td>\n",
       "      <td>2.066576</td>\n",
       "      <td>7.823932</td>\n",
       "      <td>24.422935</td>\n",
       "      <td>15.963105</td>\n",
       "      <td>54.245171</td>\n",
       "      <td>10.870009</td>\n",
       "      <td>14.854454</td>\n",
       "      <td>23.227927</td>\n",
       "      <td>27.905160</td>\n",
       "      <td>49.869762</td>\n",
       "      <td>8.520713</td>\n",
       "      <td>31.903907</td>\n",
       "      <td>16.999606</td>\n",
       "      <td>20.631293</td>\n",
       "      <td>34.477366</td>\n",
       "      <td>39.983492</td>\n",
       "      <td>32.784180</td>\n",
       "      <td>10.870009</td>\n",
       "      <td>24.884876</td>\n",
       "      <td>2.066576</td>\n",
       "      <td>53.398778</td>\n",
       "      <td>9.164670</td>\n",
       "      <td>40.125656</td>\n",
       "      <td>21.968009</td>\n",
       "      <td>14.066895</td>\n",
       "      <td>39.983492</td>\n",
       "      <td>28.907458</td>\n",
       "      <td>...</td>\n",
       "      <td>2.066576</td>\n",
       "      <td>13.656094</td>\n",
       "      <td>7.058702</td>\n",
       "      <td>16.661272</td>\n",
       "      <td>7.823932</td>\n",
       "      <td>2.066576</td>\n",
       "      <td>90.135274</td>\n",
       "      <td>17.976444</td>\n",
       "      <td>2.066576</td>\n",
       "      <td>9.164670</td>\n",
       "      <td>13.656094</td>\n",
       "      <td>15.602310</td>\n",
       "      <td>53.611629</td>\n",
       "      <td>24.654987</td>\n",
       "      <td>35.933084</td>\n",
       "      <td>3.957193</td>\n",
       "      <td>6.199729</td>\n",
       "      <td>11.871578</td>\n",
       "      <td>9.164670</td>\n",
       "      <td>32.434938</td>\n",
       "      <td>25.112660</td>\n",
       "      <td>2.066576</td>\n",
       "      <td>5.200770</td>\n",
       "      <td>14.466035</td>\n",
       "      <td>7.823932</td>\n",
       "      <td>7.823932</td>\n",
       "      <td>17.656837</td>\n",
       "      <td>2.066576</td>\n",
       "      <td>17.331337</td>\n",
       "      <td>5.200770</td>\n",
       "      <td>5.200770</td>\n",
       "      <td>2.066576</td>\n",
       "      <td>2.066576</td>\n",
       "      <td>2.066576</td>\n",
       "      <td>2.066576</td>\n",
       "      <td>2.066576</td>\n",
       "      <td>49.295538</td>\n",
       "      <td>2.066576</td>\n",
       "      <td>2.066576</td>\n",
       "      <td>2.066576</td>\n",
       "    </tr>\n",
       "    <tr>\n",
       "      <th>4</th>\n",
       "      <td>STT5441_Breast_004_normal</td>\n",
       "      <td>normal</td>\n",
       "      <td>2.613616</td>\n",
       "      <td>3.434965</td>\n",
       "      <td>12.682222</td>\n",
       "      <td>10.543189</td>\n",
       "      <td>26.688686</td>\n",
       "      <td>12.484822</td>\n",
       "      <td>1.364917</td>\n",
       "      <td>67.140393</td>\n",
       "      <td>35.896701</td>\n",
       "      <td>48.134682</td>\n",
       "      <td>46.507417</td>\n",
       "      <td>7.179340</td>\n",
       "      <td>8.151497</td>\n",
       "      <td>23.096282</td>\n",
       "      <td>29.007823</td>\n",
       "      <td>78.309425</td>\n",
       "      <td>16.586217</td>\n",
       "      <td>18.698195</td>\n",
       "      <td>42.135928</td>\n",
       "      <td>39.393867</td>\n",
       "      <td>65.111910</td>\n",
       "      <td>15.819691</td>\n",
       "      <td>60.974762</td>\n",
       "      <td>27.872385</td>\n",
       "      <td>38.046667</td>\n",
       "      <td>86.335695</td>\n",
       "      <td>59.781684</td>\n",
       "      <td>56.754932</td>\n",
       "      <td>10.304894</td>\n",
       "      <td>19.857856</td>\n",
       "      <td>2.613616</td>\n",
       "      <td>59.197111</td>\n",
       "      <td>1.364917</td>\n",
       "      <td>59.740119</td>\n",
       "      <td>35.479081</td>\n",
       "      <td>11.872944</td>\n",
       "      <td>66.433731</td>\n",
       "      <td>19.857856</td>\n",
       "      <td>...</td>\n",
       "      <td>1.364917</td>\n",
       "      <td>8.151497</td>\n",
       "      <td>6.053011</td>\n",
       "      <td>32.634544</td>\n",
       "      <td>15.502472</td>\n",
       "      <td>4.662078</td>\n",
       "      <td>122.028428</td>\n",
       "      <td>38.111900</td>\n",
       "      <td>8.739730</td>\n",
       "      <td>1.364917</td>\n",
       "      <td>13.256800</td>\n",
       "      <td>27.513595</td>\n",
       "      <td>74.305471</td>\n",
       "      <td>58.095870</td>\n",
       "      <td>47.615835</td>\n",
       "      <td>23.941223</td>\n",
       "      <td>19.857856</td>\n",
       "      <td>19.982553</td>\n",
       "      <td>13.068081</td>\n",
       "      <td>41.482388</td>\n",
       "      <td>33.088086</td>\n",
       "      <td>5.627695</td>\n",
       "      <td>14.509262</td>\n",
       "      <td>11.227770</td>\n",
       "      <td>5.167491</td>\n",
       "      <td>6.450344</td>\n",
       "      <td>7.840849</td>\n",
       "      <td>1.364917</td>\n",
       "      <td>7.840849</td>\n",
       "      <td>4.662078</td>\n",
       "      <td>11.227770</td>\n",
       "      <td>1.364917</td>\n",
       "      <td>1.364917</td>\n",
       "      <td>1.364917</td>\n",
       "      <td>1.364917</td>\n",
       "      <td>1.364917</td>\n",
       "      <td>23.627911</td>\n",
       "      <td>1.364917</td>\n",
       "      <td>1.364917</td>\n",
       "      <td>1.364917</td>\n",
       "    </tr>\n",
       "  </tbody>\n",
       "</table>\n",
       "<p>5 rows × 15750 columns</p>\n",
       "</div>"
      ],
      "text/plain": [
       "                  Patient_id Diagnosis  LOC643837  ...  CYorf15B     KDM5D    EIF1AY\n",
       "0  STT5425_Breast_001_normal    normal   1.257614  ...  1.257614  1.257614  1.257614\n",
       "1  STT5427_Breast_023_normal    normal   4.567931  ...  1.815112  1.815112  1.815112\n",
       "2  STT5430_Breast_002_normal    normal   2.077597  ...  2.077597  2.077597  2.077597\n",
       "3  STT5439_Breast_003_normal    normal   2.066576  ...  2.066576  2.066576  2.066576\n",
       "4  STT5441_Breast_004_normal    normal   2.613616  ...  1.364917  1.364917  1.364917\n",
       "\n",
       "[5 rows x 15750 columns]"
      ]
     },
     "execution_count": 137,
     "metadata": {
      "tags": []
     },
     "output_type": "execute_result"
    }
   ],
   "source": [
    "df = pd.read_csv('gene_high_throughput_sequencing.csv')\n",
    "df.head()"
   ]
  },
  {
   "cell_type": "code",
   "execution_count": 138,
   "metadata": {
    "colab": {
     "base_uri": "https://localhost:8080/"
    },
    "id": "_7n1awEh0ga8",
    "outputId": "788c93fb-1279-43c2-9b5b-e342ed46ed6c"
   },
   "outputs": [
    {
     "data": {
      "text/plain": [
       "(72, 15750)"
      ]
     },
     "execution_count": 138,
     "metadata": {
      "tags": []
     },
     "output_type": "execute_result"
    }
   ],
   "source": [
    "df.shape"
   ]
  },
  {
   "cell_type": "code",
   "execution_count": 139,
   "metadata": {
    "id": "DiYSxN5Ix9h5"
   },
   "outputs": [],
   "source": [
    "normal = df[df['Diagnosis'] == 'normal']\n",
    "early_neoplasia = df[df['Diagnosis'] == 'early neoplasia']\n",
    "cancer = df[df['Diagnosis'] == 'cancer']"
   ]
  },
  {
   "cell_type": "markdown",
   "metadata": {
    "id": "_pm36HZAyJFB"
   },
   "source": [
    "## Часть 1: применение t-критерия Стьюдента"
   ]
  },
  {
   "cell_type": "code",
   "execution_count": 140,
   "metadata": {
    "id": "dI5wdoL95pc6"
   },
   "outputs": [],
   "source": [
    "def get_ssd_student(control, treatment):\n",
    "    gens = control.columns[2:]\n",
    "    data = []\n",
    "    for gen in gens:\n",
    "        control_gen = control.loc[:, gen]\n",
    "        treatment_gen = treatment.loc[:, gen]\n",
    "        T, p_value = stats.ttest_ind(control_gen, treatment_gen, equal_var=False)\n",
    "        if p_value < 0.05:\n",
    "            data.append([gen, p_value])\n",
    "    ssd = pd.DataFrame.from_records(data)\n",
    "    ssd.columns = ['gen', 'p-value']\n",
    "    return ssd"
   ]
  },
  {
   "cell_type": "code",
   "execution_count": 141,
   "metadata": {
    "id": "oskdo0gE41aA"
   },
   "outputs": [],
   "source": [
    "ssd_student_1 = get_ssd_student(normal, early_neoplasia)"
   ]
  },
  {
   "cell_type": "code",
   "execution_count": 142,
   "metadata": {
    "colab": {
     "base_uri": "https://localhost:8080/",
     "height": 204
    },
    "id": "7PXqyyTK9OE4",
    "outputId": "810580fd-741b-4b67-c89c-30be4f3e62da"
   },
   "outputs": [
    {
     "data": {
      "text/html": [
       "<div>\n",
       "<style scoped>\n",
       "    .dataframe tbody tr th:only-of-type {\n",
       "        vertical-align: middle;\n",
       "    }\n",
       "\n",
       "    .dataframe tbody tr th {\n",
       "        vertical-align: top;\n",
       "    }\n",
       "\n",
       "    .dataframe thead th {\n",
       "        text-align: right;\n",
       "    }\n",
       "</style>\n",
       "<table border=\"1\" class=\"dataframe\">\n",
       "  <thead>\n",
       "    <tr style=\"text-align: right;\">\n",
       "      <th></th>\n",
       "      <th>gen</th>\n",
       "      <th>p-value</th>\n",
       "    </tr>\n",
       "  </thead>\n",
       "  <tbody>\n",
       "    <tr>\n",
       "      <th>0</th>\n",
       "      <td>LOC100130417</td>\n",
       "      <td>0.000032</td>\n",
       "    </tr>\n",
       "    <tr>\n",
       "      <th>1</th>\n",
       "      <td>KLHL17</td>\n",
       "      <td>0.049876</td>\n",
       "    </tr>\n",
       "    <tr>\n",
       "      <th>2</th>\n",
       "      <td>HES4</td>\n",
       "      <td>0.023712</td>\n",
       "    </tr>\n",
       "    <tr>\n",
       "      <th>3</th>\n",
       "      <td>AGRN</td>\n",
       "      <td>0.037933</td>\n",
       "    </tr>\n",
       "    <tr>\n",
       "      <th>4</th>\n",
       "      <td>C1orf159</td>\n",
       "      <td>0.020002</td>\n",
       "    </tr>\n",
       "  </tbody>\n",
       "</table>\n",
       "</div>"
      ],
      "text/plain": [
       "            gen   p-value\n",
       "0  LOC100130417  0.000032\n",
       "1        KLHL17  0.049876\n",
       "2          HES4  0.023712\n",
       "3          AGRN  0.037933\n",
       "4      C1orf159  0.020002"
      ]
     },
     "execution_count": 142,
     "metadata": {
      "tags": []
     },
     "output_type": "execute_result"
    }
   ],
   "source": [
    "ssd_student_1.head()"
   ]
  },
  {
   "cell_type": "code",
   "execution_count": 143,
   "metadata": {
    "colab": {
     "base_uri": "https://localhost:8080/"
    },
    "id": "d67Pepp_9Pei",
    "outputId": "2396cd31-b491-47b7-c43a-68756338a444"
   },
   "outputs": [
    {
     "data": {
      "text/plain": [
       "1575"
      ]
     },
     "execution_count": 143,
     "metadata": {
      "tags": []
     },
     "output_type": "execute_result"
    }
   ],
   "source": [
    "ssd_student_1.shape[0]"
   ]
  },
  {
   "cell_type": "code",
   "execution_count": 144,
   "metadata": {
    "id": "tOYBgPZm8Loh"
   },
   "outputs": [],
   "source": [
    "ssd_student_2 = get_ssd_student(early_neoplasia, cancer)"
   ]
  },
  {
   "cell_type": "code",
   "execution_count": 154,
   "metadata": {
    "colab": {
     "base_uri": "https://localhost:8080/",
     "height": 204
    },
    "id": "KEa5YkEpjhrT",
    "outputId": "937e322b-afbe-4308-a7ae-0ed407541ab8"
   },
   "outputs": [
    {
     "data": {
      "text/html": [
       "<div>\n",
       "<style scoped>\n",
       "    .dataframe tbody tr th:only-of-type {\n",
       "        vertical-align: middle;\n",
       "    }\n",
       "\n",
       "    .dataframe tbody tr th {\n",
       "        vertical-align: top;\n",
       "    }\n",
       "\n",
       "    .dataframe thead th {\n",
       "        text-align: right;\n",
       "    }\n",
       "</style>\n",
       "<table border=\"1\" class=\"dataframe\">\n",
       "  <thead>\n",
       "    <tr style=\"text-align: right;\">\n",
       "      <th></th>\n",
       "      <th>gen</th>\n",
       "      <th>p-value</th>\n",
       "    </tr>\n",
       "  </thead>\n",
       "  <tbody>\n",
       "    <tr>\n",
       "      <th>0</th>\n",
       "      <td>PLEKHN1</td>\n",
       "      <td>0.007681</td>\n",
       "    </tr>\n",
       "    <tr>\n",
       "      <th>1</th>\n",
       "      <td>ISG15</td>\n",
       "      <td>0.000740</td>\n",
       "    </tr>\n",
       "    <tr>\n",
       "      <th>2</th>\n",
       "      <td>TTLL10</td>\n",
       "      <td>0.006844</td>\n",
       "    </tr>\n",
       "    <tr>\n",
       "      <th>3</th>\n",
       "      <td>TNFRSF18</td>\n",
       "      <td>0.002094</td>\n",
       "    </tr>\n",
       "    <tr>\n",
       "      <th>4</th>\n",
       "      <td>B3GALT6</td>\n",
       "      <td>0.031126</td>\n",
       "    </tr>\n",
       "  </tbody>\n",
       "</table>\n",
       "</div>"
      ],
      "text/plain": [
       "        gen   p-value\n",
       "0   PLEKHN1  0.007681\n",
       "1     ISG15  0.000740\n",
       "2    TTLL10  0.006844\n",
       "3  TNFRSF18  0.002094\n",
       "4   B3GALT6  0.031126"
      ]
     },
     "execution_count": 154,
     "metadata": {
      "tags": []
     },
     "output_type": "execute_result"
    }
   ],
   "source": [
    "ssd_student_2.head()"
   ]
  },
  {
   "cell_type": "code",
   "execution_count": 145,
   "metadata": {
    "colab": {
     "base_uri": "https://localhost:8080/"
    },
    "id": "nWDHye3H9Sc-",
    "outputId": "858fba74-4ab1-4114-86a7-ea0156f1bc29"
   },
   "outputs": [
    {
     "data": {
      "text/plain": [
       "3490"
      ]
     },
     "execution_count": 145,
     "metadata": {
      "tags": []
     },
     "output_type": "execute_result"
    }
   ],
   "source": [
    "ssd_student_2.shape[0]"
   ]
  },
  {
   "cell_type": "markdown",
   "metadata": {
    "id": "ElHaSFr789_E"
   },
   "source": [
    "## Часть 2: поправка методом Холма"
   ]
  },
  {
   "cell_type": "code",
   "execution_count": 146,
   "metadata": {
    "id": "LJJ29aEJPAxj"
   },
   "outputs": [],
   "source": [
    "def fold_change(C, T):\n",
    "    if T > C:\n",
    "        return T/C\n",
    "    return -C/T"
   ]
  },
  {
   "cell_type": "code",
   "execution_count": 147,
   "metadata": {
    "id": "_cLLcO3KA1s7"
   },
   "outputs": [],
   "source": [
    "def get_sapsd(control, treatment, method, p_value=0.05):\n",
    "    gens = control.columns[2:]\n",
    "    data = []\n",
    "    for gen in gens:\n",
    "        control_gen = control.loc[:, gen]\n",
    "        treatment_gen = treatment.loc[:, gen]\n",
    "        T, p_value = stats.ttest_ind(control_gen, treatment_gen, equal_var=False)\n",
    "        data.append([gen, p_value, control_gen.mean(), treatment_gen.mean()])\n",
    "    ssd = pd.DataFrame.from_records(data)\n",
    "    ssd.columns = ['gen', 'p_value', 'control_mean', 'treatment_mean']\n",
    "    reject, p_corrected, a1, a2 = multipletests(ssd['p_value'].values, alpha = 0.025, method = method)\n",
    "    ssd['p_value_corrected'] = p_corrected\n",
    "    ssd['reject'] = reject\n",
    "    ssd = ssd[ssd['reject'] == 1]\n",
    "    ssd['fold_change'] = ssd.apply(lambda x: fold_change(x.control_mean, x.treatment_mean), axis=1)\n",
    "    ssd = ssd[abs(ssd['fold_change']) > 1.5]\n",
    "    return ssd"
   ]
  },
  {
   "cell_type": "code",
   "execution_count": 148,
   "metadata": {
    "id": "AmOME9r-LZ97"
   },
   "outputs": [],
   "source": [
    "sapsd_holm_1 = get_sapsd(normal, early_neoplasia, 'holm', 0.025)"
   ]
  },
  {
   "cell_type": "code",
   "execution_count": 149,
   "metadata": {
    "colab": {
     "base_uri": "https://localhost:8080/",
     "height": 111
    },
    "id": "aJ00GOyGM2o1",
    "outputId": "0a15a022-122d-4002-d703-cff8e99d04fa"
   },
   "outputs": [
    {
     "data": {
      "text/html": [
       "<div>\n",
       "<style scoped>\n",
       "    .dataframe tbody tr th:only-of-type {\n",
       "        vertical-align: middle;\n",
       "    }\n",
       "\n",
       "    .dataframe tbody tr th {\n",
       "        vertical-align: top;\n",
       "    }\n",
       "\n",
       "    .dataframe thead th {\n",
       "        text-align: right;\n",
       "    }\n",
       "</style>\n",
       "<table border=\"1\" class=\"dataframe\">\n",
       "  <thead>\n",
       "    <tr style=\"text-align: right;\">\n",
       "      <th></th>\n",
       "      <th>gen</th>\n",
       "      <th>p_value</th>\n",
       "      <th>control_mean</th>\n",
       "      <th>treatment_mean</th>\n",
       "      <th>p_value_corrected</th>\n",
       "      <th>reject</th>\n",
       "      <th>fold_change</th>\n",
       "    </tr>\n",
       "  </thead>\n",
       "  <tbody>\n",
       "    <tr>\n",
       "      <th>7244</th>\n",
       "      <td>PCSK4</td>\n",
       "      <td>7.955435e-07</td>\n",
       "      <td>14.983424</td>\n",
       "      <td>22.621756</td>\n",
       "      <td>0.012527</td>\n",
       "      <td>True</td>\n",
       "      <td>1.509785</td>\n",
       "    </tr>\n",
       "    <tr>\n",
       "      <th>9820</th>\n",
       "      <td>EEF1A2</td>\n",
       "      <td>8.498742e-08</td>\n",
       "      <td>19.373612</td>\n",
       "      <td>38.260320</td>\n",
       "      <td>0.001338</td>\n",
       "      <td>True</td>\n",
       "      <td>1.974868</td>\n",
       "    </tr>\n",
       "  </tbody>\n",
       "</table>\n",
       "</div>"
      ],
      "text/plain": [
       "         gen       p_value  ...  reject  fold_change\n",
       "7244   PCSK4  7.955435e-07  ...    True     1.509785\n",
       "9820  EEF1A2  8.498742e-08  ...    True     1.974868\n",
       "\n",
       "[2 rows x 7 columns]"
      ]
     },
     "execution_count": 149,
     "metadata": {
      "tags": []
     },
     "output_type": "execute_result"
    }
   ],
   "source": [
    "sapsd_holm_1.head()"
   ]
  },
  {
   "cell_type": "code",
   "execution_count": 150,
   "metadata": {
    "colab": {
     "base_uri": "https://localhost:8080/"
    },
    "id": "0b8TxmzHP8U3",
    "outputId": "c7c5a778-e3ed-4db0-d8a7-0b0f743c9ed3"
   },
   "outputs": [
    {
     "data": {
      "text/plain": [
       "2"
      ]
     },
     "execution_count": 150,
     "metadata": {
      "tags": []
     },
     "output_type": "execute_result"
    }
   ],
   "source": [
    "sapsd_holm_1.shape[0]"
   ]
  },
  {
   "cell_type": "code",
   "execution_count": 151,
   "metadata": {
    "id": "YcCTrWvlP-dp"
   },
   "outputs": [],
   "source": [
    "sapsd_holm_2 = get_sapsd(early_neoplasia, cancer, 'holm', 0.025)"
   ]
  },
  {
   "cell_type": "code",
   "execution_count": 152,
   "metadata": {
    "colab": {
     "base_uri": "https://localhost:8080/",
     "height": 204
    },
    "id": "lSI7koJFQEcL",
    "outputId": "6f6f7c6a-4c01-4a23-9ebe-91ebf2f77f38"
   },
   "outputs": [
    {
     "data": {
      "text/html": [
       "<div>\n",
       "<style scoped>\n",
       "    .dataframe tbody tr th:only-of-type {\n",
       "        vertical-align: middle;\n",
       "    }\n",
       "\n",
       "    .dataframe tbody tr th {\n",
       "        vertical-align: top;\n",
       "    }\n",
       "\n",
       "    .dataframe thead th {\n",
       "        text-align: right;\n",
       "    }\n",
       "</style>\n",
       "<table border=\"1\" class=\"dataframe\">\n",
       "  <thead>\n",
       "    <tr style=\"text-align: right;\">\n",
       "      <th></th>\n",
       "      <th>gen</th>\n",
       "      <th>p_value</th>\n",
       "      <th>control_mean</th>\n",
       "      <th>treatment_mean</th>\n",
       "      <th>p_value_corrected</th>\n",
       "      <th>reject</th>\n",
       "      <th>fold_change</th>\n",
       "    </tr>\n",
       "  </thead>\n",
       "  <tbody>\n",
       "    <tr>\n",
       "      <th>47</th>\n",
       "      <td>GABRD</td>\n",
       "      <td>2.276043e-07</td>\n",
       "      <td>7.224275</td>\n",
       "      <td>13.320553</td>\n",
       "      <td>0.003575</td>\n",
       "      <td>True</td>\n",
       "      <td>1.843860</td>\n",
       "    </tr>\n",
       "    <tr>\n",
       "      <th>283</th>\n",
       "      <td>EXTL1</td>\n",
       "      <td>1.087046e-07</td>\n",
       "      <td>23.234551</td>\n",
       "      <td>9.749268</td>\n",
       "      <td>0.001709</td>\n",
       "      <td>True</td>\n",
       "      <td>-2.383210</td>\n",
       "    </tr>\n",
       "    <tr>\n",
       "      <th>316</th>\n",
       "      <td>CD164L2</td>\n",
       "      <td>1.002085e-06</td>\n",
       "      <td>23.734858</td>\n",
       "      <td>11.882991</td>\n",
       "      <td>0.015708</td>\n",
       "      <td>True</td>\n",
       "      <td>-1.997381</td>\n",
       "    </tr>\n",
       "    <tr>\n",
       "      <th>1105</th>\n",
       "      <td>NES</td>\n",
       "      <td>1.041679e-07</td>\n",
       "      <td>93.810978</td>\n",
       "      <td>55.397100</td>\n",
       "      <td>0.001637</td>\n",
       "      <td>True</td>\n",
       "      <td>-1.693428</td>\n",
       "    </tr>\n",
       "    <tr>\n",
       "      <th>1238</th>\n",
       "      <td>FMO2</td>\n",
       "      <td>1.103311e-06</td>\n",
       "      <td>11.619290</td>\n",
       "      <td>6.470836</td>\n",
       "      <td>0.017292</td>\n",
       "      <td>True</td>\n",
       "      <td>-1.795640</td>\n",
       "    </tr>\n",
       "  </tbody>\n",
       "</table>\n",
       "</div>"
      ],
      "text/plain": [
       "          gen       p_value  ...  reject  fold_change\n",
       "47      GABRD  2.276043e-07  ...    True     1.843860\n",
       "283     EXTL1  1.087046e-07  ...    True    -2.383210\n",
       "316   CD164L2  1.002085e-06  ...    True    -1.997381\n",
       "1105      NES  1.041679e-07  ...    True    -1.693428\n",
       "1238     FMO2  1.103311e-06  ...    True    -1.795640\n",
       "\n",
       "[5 rows x 7 columns]"
      ]
     },
     "execution_count": 152,
     "metadata": {
      "tags": []
     },
     "output_type": "execute_result"
    }
   ],
   "source": [
    "sapsd_holm_2.head()"
   ]
  },
  {
   "cell_type": "code",
   "execution_count": 153,
   "metadata": {
    "colab": {
     "base_uri": "https://localhost:8080/"
    },
    "id": "8oQ5gnXHQEyO",
    "outputId": "c3d360e3-ffc3-45b1-8e02-f293a3c7430f"
   },
   "outputs": [
    {
     "data": {
      "text/plain": [
       "77"
      ]
     },
     "execution_count": 153,
     "metadata": {
      "tags": []
     },
     "output_type": "execute_result"
    }
   ],
   "source": [
    "sapsd_holm_2.shape[0]"
   ]
  },
  {
   "cell_type": "markdown",
   "metadata": {
    "id": "mJYikvHQTnUJ"
   },
   "source": [
    "## Часть 3: поправка методом Бенджамини-Хохберга"
   ]
  },
  {
   "cell_type": "code",
   "execution_count": 155,
   "metadata": {
    "id": "ZSe0vHvvQGGc"
   },
   "outputs": [],
   "source": [
    "sapsd_fdr_bh_1 = get_sapsd(normal, early_neoplasia, 'fdr_bh', 0.025)"
   ]
  },
  {
   "cell_type": "code",
   "execution_count": 156,
   "metadata": {
    "colab": {
     "base_uri": "https://localhost:8080/",
     "height": 172
    },
    "id": "rCt4_JY4T4eZ",
    "outputId": "4cfb4ee3-d490-499b-9b2c-baffa7f8a97f"
   },
   "outputs": [
    {
     "data": {
      "text/html": [
       "<div>\n",
       "<style scoped>\n",
       "    .dataframe tbody tr th:only-of-type {\n",
       "        vertical-align: middle;\n",
       "    }\n",
       "\n",
       "    .dataframe tbody tr th {\n",
       "        vertical-align: top;\n",
       "    }\n",
       "\n",
       "    .dataframe thead th {\n",
       "        text-align: right;\n",
       "    }\n",
       "</style>\n",
       "<table border=\"1\" class=\"dataframe\">\n",
       "  <thead>\n",
       "    <tr style=\"text-align: right;\">\n",
       "      <th></th>\n",
       "      <th>gen</th>\n",
       "      <th>p_value</th>\n",
       "      <th>control_mean</th>\n",
       "      <th>treatment_mean</th>\n",
       "      <th>p_value_corrected</th>\n",
       "      <th>reject</th>\n",
       "      <th>fold_change</th>\n",
       "    </tr>\n",
       "  </thead>\n",
       "  <tbody>\n",
       "    <tr>\n",
       "      <th>4627</th>\n",
       "      <td>TMEM63C</td>\n",
       "      <td>2.222228e-06</td>\n",
       "      <td>18.037315</td>\n",
       "      <td>30.010954</td>\n",
       "      <td>0.008749</td>\n",
       "      <td>True</td>\n",
       "      <td>1.663826</td>\n",
       "    </tr>\n",
       "    <tr>\n",
       "      <th>7244</th>\n",
       "      <td>PCSK4</td>\n",
       "      <td>7.955435e-07</td>\n",
       "      <td>14.983424</td>\n",
       "      <td>22.621756</td>\n",
       "      <td>0.006264</td>\n",
       "      <td>True</td>\n",
       "      <td>1.509785</td>\n",
       "    </tr>\n",
       "    <tr>\n",
       "      <th>8250</th>\n",
       "      <td>CACNG8</td>\n",
       "      <td>2.015472e-06</td>\n",
       "      <td>3.333050</td>\n",
       "      <td>5.849340</td>\n",
       "      <td>0.008749</td>\n",
       "      <td>True</td>\n",
       "      <td>1.754951</td>\n",
       "    </tr>\n",
       "    <tr>\n",
       "      <th>9820</th>\n",
       "      <td>EEF1A2</td>\n",
       "      <td>8.498742e-08</td>\n",
       "      <td>19.373612</td>\n",
       "      <td>38.260320</td>\n",
       "      <td>0.001338</td>\n",
       "      <td>True</td>\n",
       "      <td>1.974868</td>\n",
       "    </tr>\n",
       "  </tbody>\n",
       "</table>\n",
       "</div>"
      ],
      "text/plain": [
       "          gen       p_value  ...  reject  fold_change\n",
       "4627  TMEM63C  2.222228e-06  ...    True     1.663826\n",
       "7244    PCSK4  7.955435e-07  ...    True     1.509785\n",
       "8250   CACNG8  2.015472e-06  ...    True     1.754951\n",
       "9820   EEF1A2  8.498742e-08  ...    True     1.974868\n",
       "\n",
       "[4 rows x 7 columns]"
      ]
     },
     "execution_count": 156,
     "metadata": {
      "tags": []
     },
     "output_type": "execute_result"
    }
   ],
   "source": [
    "sapsd_fdr_bh_1.head()"
   ]
  },
  {
   "cell_type": "code",
   "execution_count": 157,
   "metadata": {
    "colab": {
     "base_uri": "https://localhost:8080/"
    },
    "id": "uEr1UHiHT-4D",
    "outputId": "513de04d-4814-4485-b7af-6e588809ecd5"
   },
   "outputs": [
    {
     "data": {
      "text/plain": [
       "4"
      ]
     },
     "execution_count": 157,
     "metadata": {
      "tags": []
     },
     "output_type": "execute_result"
    }
   ],
   "source": [
    "sapsd_fdr_bh_1.shape[0]"
   ]
  },
  {
   "cell_type": "code",
   "execution_count": 158,
   "metadata": {
    "id": "nTODFEwlT_qw"
   },
   "outputs": [],
   "source": [
    "sapsd_fdr_bh_2 = get_sapsd(early_neoplasia, cancer, 'fdr_bh', 0.025)"
   ]
  },
  {
   "cell_type": "code",
   "execution_count": 159,
   "metadata": {
    "colab": {
     "base_uri": "https://localhost:8080/",
     "height": 204
    },
    "id": "NFv51nf2UtFx",
    "outputId": "7936f43b-e336-47aa-e2d8-e821c98e5950"
   },
   "outputs": [
    {
     "data": {
      "text/html": [
       "<div>\n",
       "<style scoped>\n",
       "    .dataframe tbody tr th:only-of-type {\n",
       "        vertical-align: middle;\n",
       "    }\n",
       "\n",
       "    .dataframe tbody tr th {\n",
       "        vertical-align: top;\n",
       "    }\n",
       "\n",
       "    .dataframe thead th {\n",
       "        text-align: right;\n",
       "    }\n",
       "</style>\n",
       "<table border=\"1\" class=\"dataframe\">\n",
       "  <thead>\n",
       "    <tr style=\"text-align: right;\">\n",
       "      <th></th>\n",
       "      <th>gen</th>\n",
       "      <th>p_value</th>\n",
       "      <th>control_mean</th>\n",
       "      <th>treatment_mean</th>\n",
       "      <th>p_value_corrected</th>\n",
       "      <th>reject</th>\n",
       "      <th>fold_change</th>\n",
       "    </tr>\n",
       "  </thead>\n",
       "  <tbody>\n",
       "    <tr>\n",
       "      <th>8</th>\n",
       "      <td>ISG15</td>\n",
       "      <td>7.402400e-04</td>\n",
       "      <td>37.296084</td>\n",
       "      <td>91.706112</td>\n",
       "      <td>0.017556</td>\n",
       "      <td>True</td>\n",
       "      <td>2.458867</td>\n",
       "    </tr>\n",
       "    <tr>\n",
       "      <th>47</th>\n",
       "      <td>GABRD</td>\n",
       "      <td>2.276043e-07</td>\n",
       "      <td>7.224275</td>\n",
       "      <td>13.320553</td>\n",
       "      <td>0.000086</td>\n",
       "      <td>True</td>\n",
       "      <td>1.843860</td>\n",
       "    </tr>\n",
       "    <tr>\n",
       "      <th>75</th>\n",
       "      <td>AJAP1</td>\n",
       "      <td>7.993294e-04</td>\n",
       "      <td>4.861378</td>\n",
       "      <td>3.100736</td>\n",
       "      <td>0.018270</td>\n",
       "      <td>True</td>\n",
       "      <td>-1.567814</td>\n",
       "    </tr>\n",
       "    <tr>\n",
       "      <th>104</th>\n",
       "      <td>CA6</td>\n",
       "      <td>7.806213e-04</td>\n",
       "      <td>2.985346</td>\n",
       "      <td>1.718914</td>\n",
       "      <td>0.018078</td>\n",
       "      <td>True</td>\n",
       "      <td>-1.736762</td>\n",
       "    </tr>\n",
       "    <tr>\n",
       "      <th>127</th>\n",
       "      <td>MASP2</td>\n",
       "      <td>9.522413e-05</td>\n",
       "      <td>5.007323</td>\n",
       "      <td>2.861000</td>\n",
       "      <td>0.005049</td>\n",
       "      <td>True</td>\n",
       "      <td>-1.750200</td>\n",
       "    </tr>\n",
       "  </tbody>\n",
       "</table>\n",
       "</div>"
      ],
      "text/plain": [
       "       gen       p_value  control_mean  ...  p_value_corrected  reject  fold_change\n",
       "8    ISG15  7.402400e-04     37.296084  ...           0.017556    True     2.458867\n",
       "47   GABRD  2.276043e-07      7.224275  ...           0.000086    True     1.843860\n",
       "75   AJAP1  7.993294e-04      4.861378  ...           0.018270    True    -1.567814\n",
       "104    CA6  7.806213e-04      2.985346  ...           0.018078    True    -1.736762\n",
       "127  MASP2  9.522413e-05      5.007323  ...           0.005049    True    -1.750200\n",
       "\n",
       "[5 rows x 7 columns]"
      ]
     },
     "execution_count": 159,
     "metadata": {
      "tags": []
     },
     "output_type": "execute_result"
    }
   ],
   "source": [
    "sapsd_fdr_bh_2.head()"
   ]
  },
  {
   "cell_type": "code",
   "execution_count": 160,
   "metadata": {
    "colab": {
     "base_uri": "https://localhost:8080/"
    },
    "id": "EXyo2cWwUtxc",
    "outputId": "c756d24a-f826-49bc-dfa8-a3035d466e7d"
   },
   "outputs": [
    {
     "data": {
      "text/plain": [
       "524"
      ]
     },
     "execution_count": 160,
     "metadata": {
      "tags": []
     },
     "output_type": "execute_result"
    }
   ],
   "source": [
    "sapsd_fdr_bh_2.shape[0]"
   ]
  }
 ],
 "metadata": {
  "colab": {
   "collapsed_sections": [],
   "name": "Дифференциально экспрессированные гены.ipynb",
   "provenance": []
  },
  "kernelspec": {
   "display_name": "Python 3",
   "language": "python",
   "name": "python3"
  },
  "language_info": {
   "codemirror_mode": {
    "name": "ipython",
    "version": 3
   },
   "file_extension": ".py",
   "mimetype": "text/x-python",
   "name": "python",
   "nbconvert_exporter": "python",
   "pygments_lexer": "ipython3",
   "version": "3.7.6"
  }
 },
 "nbformat": 4,
 "nbformat_minor": 1
}
