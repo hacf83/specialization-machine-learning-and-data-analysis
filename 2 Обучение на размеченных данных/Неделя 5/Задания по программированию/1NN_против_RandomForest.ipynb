{
  "nbformat": 4,
  "nbformat_minor": 0,
  "metadata": {
    "colab": {
      "name": "1NN_против_RandomForest.ipynb",
      "provenance": []
    },
    "kernelspec": {
      "name": "python3",
      "display_name": "Python 3"
    },
    "language_info": {
      "name": "python"
    }
  },
  "cells": [
    {
      "cell_type": "code",
      "metadata": {
        "id": "tvRDdcjVEHzI"
      },
      "source": [
        "from sklearn.datasets import load_digits\n",
        "from sklearn.model_selection import train_test_split\n",
        "from sklearn.ensemble import RandomForestClassifier\n",
        "from numpy.linalg import norm\n",
        "import numpy as np"
      ],
      "execution_count": 4,
      "outputs": []
    },
    {
      "cell_type": "code",
      "metadata": {
        "id": "xuOGvepaEdPY"
      },
      "source": [
        "X, y = load_digits(return_X_y=True)\n",
        "i = int(0.75*len(X))\n",
        "X_train, X_test = X[:i], X[i:]\n",
        "y_train, y_test = y[:i], y[i:]"
      ],
      "execution_count": 5,
      "outputs": []
    },
    {
      "cell_type": "code",
      "metadata": {
        "colab": {
          "base_uri": "https://localhost:8080/"
        },
        "id": "RDYb-JjnFU43",
        "outputId": "12cb52be-bab9-40c4-d8fc-e378566cd220"
      },
      "source": [
        "y_pred = []\n",
        "for i in range(X_test.shape[0]):  \n",
        "    for j in range(X_train.shape[0]):\n",
        "        distance = norm(X_test[i] - X_train[j], ord=2)\n",
        "        if j == 0 or distance < nn[0]:\n",
        "            nn = [distance, y_train[j]]\n",
        "    y_pred.append(nn[1])  \n",
        "y_pred = np.array(y_pred)\n",
        "e = 0\n",
        "for pair in zip(y_pred, y_test):\n",
        "    if (pair[0] != pair[1]):\n",
        "        e += 1\n",
        "print(e/y_test.shape[0])"
      ],
      "execution_count": 6,
      "outputs": [
        {
          "output_type": "stream",
          "text": [
            "0.03777777777777778\n"
          ],
          "name": "stdout"
        }
      ]
    },
    {
      "cell_type": "code",
      "metadata": {
        "colab": {
          "base_uri": "https://localhost:8080/"
        },
        "id": "58SoHTW6FVSG",
        "outputId": "946d6e3d-f7cd-4855-acb5-2068a36431e5"
      },
      "source": [
        "rfc = RandomForestClassifier(n_estimators=1000)\n",
        "rfc.fit(X_train, y_train)\n",
        "y_pred = rfc.predict(X_test)\n",
        "e = 0\n",
        "for pair in zip(y_pred, y_test):\n",
        "    if (pair[0] != pair[1]):\n",
        "        e += 1\n",
        "print(e/y_test.shape[0])"
      ],
      "execution_count": 7,
      "outputs": [
        {
          "output_type": "stream",
          "text": [
            "0.06444444444444444\n"
          ],
          "name": "stdout"
        }
      ]
    }
  ]
}