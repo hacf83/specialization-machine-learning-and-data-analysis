{
 "cells": [
  {
   "cell_type": "code",
   "execution_count": 4,
   "metadata": {
    "id": "HcJwG4uk_7ju"
   },
   "outputs": [],
   "source": [
    "from sklearn.datasets import load_digits, load_breast_cancer\n",
    "from sklearn.model_selection import cross_val_score\n",
    "from sklearn.naive_bayes import BernoulliNB, MultinomialNB, GaussianNB"
   ]
  },
  {
   "cell_type": "code",
   "execution_count": 2,
   "metadata": {
    "id": "80PZFkbfAZi9"
   },
   "outputs": [],
   "source": [
    "digits = load_digits()\n",
    "breast_cancer = load_breast_cancer()"
   ]
  },
  {
   "cell_type": "markdown",
   "metadata": {
    "id": "H-XyOaU-AydS"
   },
   "source": [
    "### Вопрос 1"
   ]
  },
  {
   "cell_type": "code",
   "execution_count": 12,
   "metadata": {
    "colab": {
     "base_uri": "https://localhost:8080/"
    },
    "id": "oA8LlNJaAqj_",
    "outputId": "2852af1d-975d-4677-b8b8-34c36e8835a5"
   },
   "outputs": [
    {
     "name": "stdout",
     "output_type": "stream",
     "text": [
      "BernoulliNB(alpha=1.0, binarize=0.0, class_prior=None, fit_prior=True) 0.6274181027790716\n",
      "MultinomialNB(alpha=1.0, class_prior=None, fit_prior=True) 0.8963204471355379\n",
      "GaussianNB(priors=None, var_smoothing=1e-09) 0.9385188635305075\n"
     ]
    }
   ],
   "source": [
    "clfs = [BernoulliNB(), MultinomialNB(), GaussianNB()]\n",
    "for clf in clfs:\n",
    "    print(clf, cross_val_score(clf, breast_cancer.data, breast_cancer.target).mean())"
   ]
  },
  {
   "cell_type": "markdown",
   "metadata": {
    "id": "uhXepD15CcaT"
   },
   "source": [
    "### Вопрос 1"
   ]
  },
  {
   "cell_type": "code",
   "execution_count": 13,
   "metadata": {
    "colab": {
     "base_uri": "https://localhost:8080/"
    },
    "id": "NkLpimNDBink",
    "outputId": "e132cdd5-3e79-4b43-cbd6-faeb07ddad89"
   },
   "outputs": [
    {
     "name": "stdout",
     "output_type": "stream",
     "text": [
      "BernoulliNB(alpha=1.0, binarize=0.0, class_prior=None, fit_prior=True) 0.8241736304549674\n",
      "MultinomialNB(alpha=1.0, class_prior=None, fit_prior=True) 0.8703497369235531\n",
      "GaussianNB(priors=None, var_smoothing=1e-09) 0.8069281956050759\n"
     ]
    }
   ],
   "source": [
    "clfs = [BernoulliNB(), MultinomialNB(), GaussianNB()]\n",
    "for clf in clfs:\n",
    "    print(clf, cross_val_score(clf, digits.data, digits.target).mean())"
   ]
  },
  {
   "cell_type": "markdown",
   "metadata": {
    "id": "Kkzrav-DC0Rm"
   },
   "source": [
    "### Вопрос 3"
   ]
  },
  {
   "cell_type": "markdown",
   "metadata": {
    "id": "-MAgf1VTC117"
   },
   "source": [
    "1) На вещественных признаках лучше всего сработал наивный байесовский классификатор с распределением Бернулли\n",
    "\n",
    "2) На вещественных признаках лучше всего сработал наивный байесовский классификатор с мультиномиальным распределением\n",
    "\n",
    "3) Мультиномиальное распределение лучше показало себя на выборке с целыми неотрицательными значениями признаков [+]\n",
    "\n",
    "4) На вещественных признаках лучше всего сработало нормальное распределение [+]"
   ]
  }
 ],
 "metadata": {
  "colab": {
   "name": "Выбор_семейства_распределений_в_наивном_байесе.ipynb",
   "provenance": []
  },
  "kernelspec": {
   "display_name": "Python 3",
   "language": "python",
   "name": "python3"
  },
  "language_info": {
   "codemirror_mode": {
    "name": "ipython",
    "version": 3
   },
   "file_extension": ".py",
   "mimetype": "text/x-python",
   "name": "python",
   "nbconvert_exporter": "python",
   "pygments_lexer": "ipython3",
   "version": "3.7.6"
  }
 },
 "nbformat": 4,
 "nbformat_minor": 1
}
