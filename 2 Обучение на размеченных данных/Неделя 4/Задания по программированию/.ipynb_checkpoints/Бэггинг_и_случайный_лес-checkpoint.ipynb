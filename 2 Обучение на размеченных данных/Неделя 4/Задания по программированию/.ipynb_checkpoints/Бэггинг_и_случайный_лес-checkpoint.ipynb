{
 "cells": [
  {
   "cell_type": "code",
   "execution_count": 1,
   "metadata": {
    "id": "3edu7su8j2Dm"
   },
   "outputs": [],
   "source": [
    "from sklearn.datasets import load_digits\n",
    "from sklearn.model_selection import cross_val_score, validation_curve, GridSearchCV\n",
    "from sklearn.tree import DecisionTreeClassifier\n",
    "from sklearn.ensemble import BaggingClassifier, RandomForestClassifier\n",
    "import numpy as np\n",
    "import matplotlib.pyplot as plt"
   ]
  },
  {
   "cell_type": "code",
   "execution_count": 2,
   "metadata": {
    "id": "hL9SCVbdkfZ6"
   },
   "outputs": [],
   "source": [
    "digits = load_digits()\n",
    "X = digits.data\n",
    "y = digits.target"
   ]
  },
  {
   "cell_type": "markdown",
   "metadata": {
    "id": "2spCRFkXnLIs"
   },
   "source": [
    "### 1"
   ]
  },
  {
   "cell_type": "code",
   "execution_count": 3,
   "metadata": {
    "colab": {
     "base_uri": "https://localhost:8080/"
    },
    "id": "aXby1dz4krcl",
    "outputId": "383ba86d-b909-487c-a02f-2db3a5bf7f5e"
   },
   "outputs": [
    {
     "data": {
      "text/plain": [
       "0.8241247672253259"
      ]
     },
     "execution_count": 3,
     "metadata": {
      "tags": []
     },
     "output_type": "execute_result"
    }
   ],
   "source": [
    "dtc = DecisionTreeClassifier(random_state=0)\n",
    "cross_val_score(dtc, X, y, cv=10, n_jobs=-1).mean()"
   ]
  },
  {
   "cell_type": "markdown",
   "metadata": {
    "id": "foexnP6ZnMVB"
   },
   "source": [
    "### 2"
   ]
  },
  {
   "cell_type": "code",
   "execution_count": 4,
   "metadata": {
    "colab": {
     "base_uri": "https://localhost:8080/"
    },
    "id": "rYgF25BDl1h1",
    "outputId": "9df49006-56ea-4c20-8be9-9eca564e9c6c"
   },
   "outputs": [
    {
     "data": {
      "text/plain": [
       "0.9253786468032278"
      ]
     },
     "execution_count": 4,
     "metadata": {
      "tags": []
     },
     "output_type": "execute_result"
    }
   ],
   "source": [
    "dtc = DecisionTreeClassifier(random_state=0)\n",
    "bc = BaggingClassifier(dtc, 100, random_state=0)\n",
    "cross_val_score(bc, X, y, cv=10, n_jobs=-1).mean()"
   ]
  },
  {
   "cell_type": "markdown",
   "metadata": {
    "id": "4k_qLRPSoWJS"
   },
   "source": [
    "### 3"
   ]
  },
  {
   "cell_type": "code",
   "execution_count": 5,
   "metadata": {
    "colab": {
     "base_uri": "https://localhost:8080/"
    },
    "id": "yvVo4R70n9HW",
    "outputId": "67c46db2-70bb-414d-9166-e9acbf8e3de7"
   },
   "outputs": [
    {
     "data": {
      "text/plain": [
       "0.9304283054003726"
      ]
     },
     "execution_count": 5,
     "metadata": {
      "tags": []
     },
     "output_type": "execute_result"
    }
   ],
   "source": [
    "d = int(np.sqrt(X.shape[1]))\n",
    "dtc = DecisionTreeClassifier(random_state=0)\n",
    "bc = BaggingClassifier(dtc, 100, max_features=d, random_state=0)\n",
    "cross_val_score(bc, X, y, cv=10, n_jobs=-1).mean()"
   ]
  },
  {
   "cell_type": "markdown",
   "metadata": {
    "id": "mm1ZW8zQppYL"
   },
   "source": [
    "### 4"
   ]
  },
  {
   "cell_type": "code",
   "execution_count": 6,
   "metadata": {
    "colab": {
     "base_uri": "https://localhost:8080/"
    },
    "id": "CUukdgzcpKkL",
    "outputId": "3fca3586-53c9-48cb-e338-a325438992a1"
   },
   "outputs": [
    {
     "data": {
      "text/plain": [
       "0.9510211049037863"
      ]
     },
     "execution_count": 6,
     "metadata": {
      "tags": []
     },
     "output_type": "execute_result"
    }
   ],
   "source": [
    "d = int(np.sqrt(X.shape[1]))\n",
    "dtc = DecisionTreeClassifier(max_features=d, random_state=0)\n",
    "bc = BaggingClassifier(dtc, 100, random_state=0)\n",
    "cross_val_score(bc, X, y, cv=10, n_jobs=-1).mean()"
   ]
  },
  {
   "cell_type": "markdown",
   "metadata": {
    "id": "pQyxrJ6MqYSz"
   },
   "source": [
    "### 5"
   ]
  },
  {
   "cell_type": "code",
   "execution_count": 7,
   "metadata": {
    "colab": {
     "base_uri": "https://localhost:8080/"
    },
    "id": "rK92IcMAp3CZ",
    "outputId": "70943900-370b-4044-e4ac-07537b07ddf3"
   },
   "outputs": [
    {
     "data": {
      "text/plain": [
       "0.9476939788950961"
      ]
     },
     "execution_count": 7,
     "metadata": {
      "tags": []
     },
     "output_type": "execute_result"
    }
   ],
   "source": [
    "rfc = RandomForestClassifier(random_state=0)\n",
    "cross_val_score(rfc, X, y, cv=10, n_jobs=-1).mean()"
   ]
  },
  {
   "cell_type": "markdown",
   "metadata": {
    "id": "3GVe3dcSvaob"
   },
   "source": [
    "1) Случайный лес сильно переобучается с ростом количества деревьев"
   ]
  },
  {
   "cell_type": "markdown",
   "metadata": {
    "id": "v3Ncl3WbxApR"
   },
   "source": [
    "2) При очень маленьком числе деревьев (5, 10, 15), случайный лес работает хуже, чем при большем числе деревьев [+]"
   ]
  },
  {
   "cell_type": "markdown",
   "metadata": {
    "id": "F7U1cDuqxo3Y"
   },
   "source": [
    "3) С ростом количества деревьев в случайном лесе, в какой-то момент деревьев становится достаточно для высокого качества классификации, а затем качество существенно не меняется [+]"
   ]
  },
  {
   "cell_type": "code",
   "execution_count": 8,
   "metadata": {
    "colab": {
     "base_uri": "https://localhost:8080/",
     "height": 279
    },
    "id": "Y_hj7ROquIdG",
    "outputId": "5aa23d45-1597-4a16-c781-2866ed3e41c6"
   },
   "outputs": [
    {
     "data": {
      "image/png": "[encoded data removed]",
      "text/plain": [
       "<Figure size 432x288 with 1 Axes>"
      ]
     },
     "metadata": {
      "needs_background": "light",
      "tags": []
     },
     "output_type": "display_data"
    }
   ],
   "source": [
    "param_range = np.arange(5, 251, 5)\n",
    "train_scores, test_scores = validation_curve(RandomForestClassifier(random_state=0), X, y, \n",
    "                                             param_name=\"n_estimators\", \n",
    "                                             param_range=param_range,\n",
    "                                             cv=10,\n",
    "                                             n_jobs=-1)\n",
    "train_mean = np.mean(train_scores, axis=1)\n",
    "test_mean = np.mean(test_scores, axis=1)\n",
    "plt.plot(param_range, train_mean, label=\"Train\")\n",
    "plt.plot(param_range, test_mean, label=\"Test\")\n",
    "plt.xlabel(\"Number Of Trees\")\n",
    "plt.ylabel(\"Score\")\n",
    "plt.legend()\n",
    "plt.show()"
   ]
  },
  {
   "cell_type": "code",
   "execution_count": 9,
   "metadata": {
    "colab": {
     "base_uri": "https://localhost:8080/"
    },
    "id": "RnEs_b77wItD",
    "outputId": "52a41054-0df2-4c19-d77f-5675980c69e9"
   },
   "outputs": [
    {
     "name": "stdout",
     "output_type": "stream",
     "text": [
      "5 : 0.8659186840471756\n",
      "10 : 0.908181253879578\n",
      "15 : 0.924866542520174\n",
      "100 : 0.9476939788950961\n"
     ]
    }
   ],
   "source": [
    "n_estimators = [5, 10, 15, 100]\n",
    "params = {'n_estimators': n_estimators}\n",
    "rfc = RandomForestClassifier(random_state=0)\n",
    "rfc_grid = GridSearchCV(rfc, params, cv=10, scoring=\"accuracy\", n_jobs=-1)\n",
    "rfc_grid.fit(X, y)\n",
    "for pair in zip(n_estimators, rfc_grid.cv_results_['mean_test_score']):\n",
    "    print('{} : {}'.format(pair[0], pair[1]))"
   ]
  },
  {
   "cell_type": "markdown",
   "metadata": {
    "id": "T-UgzwCDzj8C"
   },
   "source": [
    "---"
   ]
  },
  {
   "cell_type": "markdown",
   "metadata": {
    "id": "zRsVGZLLx4Ny"
   },
   "source": [
    "4) При большом количестве признаков (для данного датасета - 40, 50) качество классификации становится хуже, чем при малом количестве признаков (5, 10). Это связано с тем, что чем меньше признаков выбирается в каждом узле, тем более различными получаются деревья (ведь деревья сильно неустойчивы к изменениям в обучающей выборке), и тем лучше работает их композиция [+]"
   ]
  },
  {
   "cell_type": "markdown",
   "metadata": {
    "id": "sP561_g2yGJo"
   },
   "source": [
    "5) При большом количестве признаков (40, 50, 60) качество классификации лучше, чем при малом количестве признаков (5, 10). Это связано с тем, что чем больше признаков - тем больше информации об объектах, а значит алгоритм может делать прогнозы более точно"
   ]
  },
  {
   "cell_type": "code",
   "execution_count": 10,
   "metadata": {
    "colab": {
     "base_uri": "https://localhost:8080/"
    },
    "id": "1mLq2dnyzJtI",
    "outputId": "abc3eec9-748f-4370-818b-d0766e1d683c"
   },
   "outputs": [
    {
     "name": "stdout",
     "output_type": "stream",
     "text": [
      "5 : 0.9471322160148976\n",
      "10 : 0.9471229050279328\n",
      "40 : 0.9370887647423961\n",
      "50 : 0.9348572315332092\n",
      "60 : 0.9253910614525139\n"
     ]
    }
   ],
   "source": [
    "max_features = [5, 10, 40, 50, 60]\n",
    "params = {'max_features': max_features}\n",
    "rfc = RandomForestClassifier(random_state=0)\n",
    "rfc_grid = GridSearchCV(rfc, params, cv=10, scoring=\"accuracy\", n_jobs=-1)\n",
    "rfc_grid.fit(X, y)\n",
    "for pair in zip(max_features, rfc_grid.cv_results_['mean_test_score']):\n",
    "    print('{} : {}'.format(pair[0], pair[1]))"
   ]
  },
  {
   "cell_type": "markdown",
   "metadata": {
    "id": "Nbz0MPHfzm0D"
   },
   "source": [
    "---"
   ]
  },
  {
   "cell_type": "markdown",
   "metadata": {
    "id": "GJKWDXC5yK6M"
   },
   "source": [
    "6) При небольшой максимальной глубине деревьев (5-6) качество работы случайного леса намного лучше, чем без ограничения глубины, т.к. деревья получаются не переобученными. С ростом глубины деревьев качество ухудшается"
   ]
  },
  {
   "cell_type": "markdown",
   "metadata": {
    "id": "Sw284J0fyWrR"
   },
   "source": [
    "7) При небольшой максимальной глубине деревьев (5-6) качество работы случайного леса заметно хуже, чем без ограничений, т.к. деревья получаются недообученными. С ростом глубины качество сначала улучшается, а затем не меняется существенно, т.к. из-за усреднения прогнозов и различий деревьев их переобученность в бэггинге не сказывается на итоговом качестве (все деревья преобучены по-разному, и при усреднении они компенсируют переобученность друг-друга) [+]"
   ]
  },
  {
   "cell_type": "code",
   "execution_count": 11,
   "metadata": {
    "colab": {
     "base_uri": "https://localhost:8080/"
    },
    "id": "oY6ltmgoyG7J",
    "outputId": "88cb5dc3-e6d5-48c9-e913-2093fe2af2b7"
   },
   "outputs": [
    {
     "name": "stdout",
     "output_type": "stream",
     "text": [
      "5: 0.9187368094351335\n",
      "6: 0.9293047796399752\n",
      "Без ограничений: 0.9476939788950961\n"
     ]
    }
   ],
   "source": [
    "for max_depth in range(5, 7):\n",
    "    rfc = RandomForestClassifier(max_depth=max_depth, random_state=0)\n",
    "    print(f'{max_depth}: {cross_val_score(rfc, X, y, cv=10, n_jobs=-1).mean()}')\n",
    "rfc = RandomForestClassifier(random_state=0)\n",
    "print(f'Без ограничений: {cross_val_score(rfc, X, y, cv=10, n_jobs=-1).mean()}')"
   ]
  }
 ],
 "metadata": {
  "colab": {
   "name": "Бэггинг_и_случайный_лес.ipynb",
   "provenance": []
  },
  "kernelspec": {
   "display_name": "Python 3",
   "language": "python",
   "name": "python3"
  },
  "language_info": {
   "codemirror_mode": {
    "name": "ipython",
    "version": 3
   },
   "file_extension": ".py",
   "mimetype": "text/x-python",
   "name": "python",
   "nbconvert_exporter": "python",
   "pygments_lexer": "ipython3",
   "version": "3.7.6"
  }
 },
 "nbformat": 4,
 "nbformat_minor": 1
}
